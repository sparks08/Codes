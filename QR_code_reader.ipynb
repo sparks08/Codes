{
 "cells": [
  {
   "cell_type": "code",
   "execution_count": 2,
   "metadata": {},
   "outputs": [
    {
     "ename": "error",
     "evalue": "OpenCV(4.7.0) /io/opencv/modules/objdetect/src/qrcode.cpp:30: error: (-215:Assertion failed) !img.empty() in function 'checkQRInputImage'\n",
     "output_type": "error",
     "traceback": [
      "\u001b[0;31m---------------------------------------------------------------------------\u001b[0m",
      "\u001b[0;31merror\u001b[0m                                     Traceback (most recent call last)",
      "Cell \u001b[0;32mIn[2], line 11\u001b[0m\n\u001b[1;32m      8\u001b[0m \u001b[39mwhile\u001b[39;00m \u001b[39mTrue\u001b[39;00m:\n\u001b[1;32m      9\u001b[0m     \u001b[39m# Capture the video frame by frame\u001b[39;00m\n\u001b[1;32m     10\u001b[0m     ret, frame \u001b[39m=\u001b[39m vid\u001b[39m.\u001b[39mread()\n\u001b[0;32m---> 11\u001b[0m     data, bbox, straight_qrcode \u001b[39m=\u001b[39m detector\u001b[39m.\u001b[39;49mdetectAndDecode(frame)\n\u001b[1;32m     12\u001b[0m     \u001b[39mif\u001b[39;00m \u001b[39mlen\u001b[39m(data) \u001b[39m>\u001b[39m \u001b[39m0\u001b[39m:\n\u001b[1;32m     13\u001b[0m         raw_data\u001b[39m.\u001b[39mappend(data)\n",
      "\u001b[0;31merror\u001b[0m: OpenCV(4.7.0) /io/opencv/modules/objdetect/src/qrcode.cpp:30: error: (-215:Assertion failed) !img.empty() in function 'checkQRInputImage'\n"
     ]
    }
   ],
   "source": [
    "\n",
    "# import the opencv library\n",
    "import cv2\n",
    "\n",
    "raw_data = []\n",
    "# define a video capture object\n",
    "vid = cv2.VideoCapture('/home/sparkbrains/Downloads/istockphoto-1254600952-640_adpp_is.mp4')\n",
    "detector = cv2.QRCodeDetector()\n",
    "while True:\n",
    "    # Capture the video frame by frame\n",
    "    ret, frame = vid.read()\n",
    "    data, bbox, straight_qrcode = detector.detectAndDecode(frame)\n",
    "    if len(data) > 0:\n",
    "        raw_data.append(data)\n",
    "    # Display the resulting frame\n",
    "    cv2.imshow('frame', frame)\n",
    "    # the 'q' button is set as the\n",
    "    # quitting button you may use any\n",
    "    # desired button of your choice\n",
    "    if cv2.waitKey(1) & 0xFF == ord('q'):\n",
    "        break\n",
    "# After the loop release the cap object\n",
    "vid.release()\n",
    "# Destroy all the windows\n",
    "cv2.destroyAllWindows()"
   ]
  },
  {
   "cell_type": "code",
   "execution_count": null,
   "metadata": {},
   "outputs": [],
   "source": []
  }
 ],
 "metadata": {
  "kernelspec": {
   "display_name": "Python 3 (ipykernel)",
   "language": "python",
   "name": "python3"
  },
  "language_info": {
   "codemirror_mode": {
    "name": "ipython",
    "version": 3
   },
   "file_extension": ".py",
   "mimetype": "text/x-python",
   "name": "python",
   "nbconvert_exporter": "python",
   "pygments_lexer": "ipython3",
   "version": "3.10.6"
  },
  "orig_nbformat": 4,
  "vscode": {
   "interpreter": {
    "hash": "916dbcbb3f70747c44a77c7bcd40155683ae19c65e1c03b4aa3499c5328201f1"
   }
  }
 },
 "nbformat": 4,
 "nbformat_minor": 2
}
