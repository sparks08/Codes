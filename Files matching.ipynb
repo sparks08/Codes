{
 "cells": [
  {
   "cell_type": "markdown",
   "id": "d2abc35e",
   "metadata": {},
   "source": [
    "## Pick only the labels files "
   ]
  },
  {
   "cell_type": "code",
   "execution_count": 7,
   "id": "67c20a9e",
   "metadata": {},
   "outputs": [],
   "source": [
    "import shutil\n",
    "import os\n",
    "\n",
    "# Images\n",
    "images_folder = os.listdir('/home/sparkbrains/Documents/INQ_AI/Datasets/Sleeping_person/data_v2_2/images/')\n",
    "\n",
    "#all_images\n",
    "# all_images_folder = os.listdir('/home/sparkbrains/Documents/INQ_AI/Datasets/Sleeping_person/data_v1/images/training/')\n",
    "\n",
    "# Labels \n",
    "labels_folder = os.listdir('/home/sparkbrains/Documents/INQ_AI/Datasets/Sleeping_person/data_v2_2/labels/')\n",
    "\n",
    "# for image in images_folder:\n",
    "#     for al in all_images_folder:\n",
    "#         if image == al:\n",
    "#             source = \"/home/sparkbrains/Documents/INQ_AI/Datasets/Sleeping_person/data_v1/images/training/\" + al\n",
    "#             destination = \"/home/sparkbrains/Documents/INQ_AI/Datasets/Sleeping_person/data_v2_2/s_d_images/\" + al\n",
    "#             shutil.copy(source, destination)\n",
    "\n",
    "\n",
    "#Label and images\n",
    "for image in images_folder:\n",
    "    for label in labels_folder: \n",
    "        if image.split(\".\")[0] == label.split(\".\")[0]:\n",
    "            source = \"/home/sparkbrains/Documents/INQ_AI/Datasets/Sleeping_person/data_v2_2/labels/\" + label\n",
    "            destination = \"/home/sparkbrains/Documents/INQ_AI/Datasets/Sleeping_person/data_v2_2/s_d_labels/\"+ label\n",
    "            shutil.copy(source, destination)"
   ]
  },
  {
   "cell_type": "markdown",
   "id": "8df68ed3",
   "metadata": {},
   "source": [
    "\n",
    "## Checking for extra files"
   ]
  },
  {
   "cell_type": "code",
   "execution_count": 2,
   "id": "ed1f9923",
   "metadata": {},
   "outputs": [],
   "source": [
    "import os\n",
    "\n",
    "images = os.listdir('/home/sparkbrains/Documents/Asheem/Models/Yolo_Forklift/data/images/training/')\n",
    "labels = os.listdir('/home/sparkbrains/Documents/Asheem/Models/Yolo_Forklift/data/labels/training/')"
   ]
  },
  {
   "cell_type": "code",
   "execution_count": 3,
   "id": "82b3ddf2",
   "metadata": {},
   "outputs": [],
   "source": [
    "lab = [l.replace('txt',\"\") for l in labels]\n",
    "img = [i.replace('jpg','') for i in images]\n",
    "img = [i.replace('jpeg','') for i in img]\n",
    "img = [i.replace('png','') for i in img]\n",
    "img = [i.replace('gif','') for i in img]"
   ]
  },
  {
   "cell_type": "code",
   "execution_count": 4,
   "id": "16436b43",
   "metadata": {},
   "outputs": [
    {
     "name": "stdout",
     "output_type": "stream",
     "text": [
      "forklift_v1_210.\n",
      "forklift_v1_94.\n",
      "forklift_v1_573.\n",
      "forklift_v1_275.\n",
      "forklift_v1_339.\n"
     ]
    }
   ],
   "source": [
    "for i in lab:\n",
    "    if i not in img:\n",
    "        print(i)"
   ]
  },
  {
   "cell_type": "code",
   "execution_count": 18,
   "id": "9fb617ea",
   "metadata": {},
   "outputs": [
    {
     "data": {
      "text/plain": [
       "256"
      ]
     },
     "execution_count": 18,
     "metadata": {},
     "output_type": "execute_result"
    }
   ],
   "source": [
    "len(labels)"
   ]
  },
  {
   "cell_type": "code",
   "execution_count": null,
   "id": "dc653bd0",
   "metadata": {},
   "outputs": [],
   "source": []
  },
  {
   "cell_type": "code",
   "execution_count": null,
   "id": "efa76601",
   "metadata": {},
   "outputs": [],
   "source": []
  },
  {
   "cell_type": "code",
   "execution_count": null,
   "id": "5a0879bf",
   "metadata": {},
   "outputs": [],
   "source": []
  },
  {
   "cell_type": "code",
   "execution_count": null,
   "id": "8741733c",
   "metadata": {},
   "outputs": [],
   "source": []
  },
  {
   "cell_type": "code",
   "execution_count": 5,
   "id": "24d390a8",
   "metadata": {},
   "outputs": [],
   "source": [
    "raw_labels = \"/home/cygnet/Documents/Gaurav/Sacks/sack_counting_data_v3/labels/validation/\"\n",
    "new_labels = \"/home/cygnet/Documents/Gaurav/Sacks/sack_counting_data_v3/labels/validation_v2/\""
   ]
  },
  {
   "cell_type": "code",
   "execution_count": 6,
   "id": "2d30a8eb",
   "metadata": {},
   "outputs": [],
   "source": [
    "raw_labels1 = os.listdir(raw_labels)\n",
    "new_labels1 = os.listdir(new_labels)"
   ]
  },
  {
   "cell_type": "code",
   "execution_count": 7,
   "id": "cb113fd1",
   "metadata": {},
   "outputs": [
    {
     "name": "stdout",
     "output_type": "stream",
     "text": [
      "sacks_v3_384.txt\n"
     ]
    }
   ],
   "source": [
    "for i in raw_labels1:\n",
    "    if i not in new_labels1:\n",
    "        print(i)"
   ]
  },
  {
   "cell_type": "code",
   "execution_count": null,
   "id": "264d9df1",
   "metadata": {},
   "outputs": [],
   "source": []
  }
 ],
 "metadata": {
  "kernelspec": {
   "display_name": "Python 3 (ipykernel)",
   "language": "python",
   "name": "python3"
  },
  "language_info": {
   "codemirror_mode": {
    "name": "ipython",
    "version": 3
   },
   "file_extension": ".py",
   "mimetype": "text/x-python",
   "name": "python",
   "nbconvert_exporter": "python",
   "pygments_lexer": "ipython3",
   "version": "3.10.6"
  }
 },
 "nbformat": 4,
 "nbformat_minor": 5
}
