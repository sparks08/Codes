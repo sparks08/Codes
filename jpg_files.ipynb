{
 "cells": [
  {
   "cell_type": "code",
   "execution_count": 7,
   "id": "8c99f7d5",
   "metadata": {},
   "outputs": [],
   "source": [
    "import pandas as pd\n",
    "import glob\n",
    "import cv2"
   ]
  },
  {
   "cell_type": "code",
   "execution_count": 8,
   "id": "ad2f3162",
   "metadata": {},
   "outputs": [],
   "source": [
    "read_all_jpg = glob.glob('/home/sparkbrains/Documents/Gaurav/engineerbabu/Code_data/Kaggle/valid/*.xml')\n",
    "for files_ in read_all_jpg:\n",
    "#     rename_file = files_.replace('/home/sparkbrains/Documents/Gaurav/engineerbabu/Code_data/Kaggle/valid/','')\n",
    "#     read_data = cv2.imread(files_)\n",
    "#     cv2.imwrite('/home/sparkbrains/Documents/Gaurav/engineerbabu/Code_data/Kaggle/train_labels/'+rename_file,read_data)\n",
    "#     read_data = pd.read_xml(files_)\n",
    "#     read_data.to_xml('/home/sparkbrains/Documents/Gaurav/engineerbabu/Code_data/Kaggle/valid_labels/'+rename_file)\n",
    "\n",
    "    import shutil\n",
    "    shutil.copy(files_, '/home/sparkbrains/Documents/Gaurav/engineerbabu/Code_data/Kaggle/valid_labels/'+rename_file)\n"
   ]
  },
  {
   "cell_type": "code",
   "execution_count": 10,
   "id": "fb223096",
   "metadata": {},
   "outputs": [],
   "source": [
    "import glob\n",
    "\n",
    "files = glob.glob('/home/sparkbrains/Documents/Gaurav/engineerbabu/Code_data/Kaggle/train/*.xml')\n",
    "\n",
    "destination=(r'/home/sparkbrains/Documents/Gaurav/engineerbabu/Code_data/Kaggle/train_labels')\n",
    "\n",
    "for file_path in files:\n",
    "    shutil.copy(file_path, destination)"
   ]
  },
  {
   "cell_type": "code",
   "execution_count": null,
   "id": "452fb5fb",
   "metadata": {},
   "outputs": [],
   "source": []
  }
 ],
 "metadata": {
  "kernelspec": {
   "display_name": "Python 3 (ipykernel)",
   "language": "python",
   "name": "python3"
  },
  "language_info": {
   "codemirror_mode": {
    "name": "ipython",
    "version": 3
   },
   "file_extension": ".py",
   "mimetype": "text/x-python",
   "name": "python",
   "nbconvert_exporter": "python",
   "pygments_lexer": "ipython3",
   "version": "3.10.4"
  }
 },
 "nbformat": 4,
 "nbformat_minor": 5
}
