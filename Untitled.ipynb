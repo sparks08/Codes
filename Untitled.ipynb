{
 "cells": [
  {
   "cell_type": "code",
   "execution_count": 1,
   "id": "b371b20c",
   "metadata": {},
   "outputs": [],
   "source": [
    "import glob\n",
    "import cv2"
   ]
  },
  {
   "cell_type": "code",
   "execution_count": 15,
   "id": "92b74349",
   "metadata": {},
   "outputs": [
    {
     "name": "stdout",
     "output_type": "stream",
     "text": [
      "count is increment,2600\n",
      "count is increment,5249\n",
      "count is increment,7848\n",
      "count is increment,10497\n",
      "count is increment,13146\n",
      "count is increment,15745\n",
      "count is increment,18344\n",
      "count is increment,20943\n",
      "count is increment,23592\n",
      "count is increment,26191\n"
     ]
    }
   ],
   "source": [
    "all_files = glob.glob('/home/cygnet/Downloads/stream/stream_v1/*')[:10]\n",
    "\n",
    "# videos = [\"v1.mp4\", \"v2.mp4\"]\n",
    "fps = 30\n",
    "# # Create a new video\n",
    "video = cv2.VideoWriter(\"new_video.avi\", cv2.VideoWriter_fourcc(*\"MJPG\"), fps, (640 , 640))\n",
    "\n",
    "count = 1\n",
    "# Write all the frames sequentially to the new video\n",
    "for v in all_files:\n",
    "    curr_v = cv2.VideoCapture(v)\n",
    "    while curr_v.isOpened():\n",
    "        r, frame = curr_v.read()    # Get return value and curr frame of curr video\n",
    "        if not r:\n",
    "            break\n",
    "        video.write(frame)\n",
    "    count = count + 1\n",
    "        # Write the frame\n",
    "    print(f'count is increment,{count}')\n",
    "\n",
    "video.release()  \n"
   ]
  },
  {
   "cell_type": "code",
   "execution_count": 1,
   "id": "59273e7d",
   "metadata": {},
   "outputs": [
    {
     "name": "stdout",
     "output_type": "stream",
     "text": [
      "a_1.mp4\n",
      "a_2.mp4\n",
      "a_3.mp4\n",
      "a_4.mp4\n",
      "a_5.mp4\n",
      "a_6.mp4\n",
      "a_7.mp4\n",
      "a_8.mp4\n",
      "a_9.mp4\n",
      "a_10.mp4\n",
      "a_11.mp4\n",
      "a_12.mp4\n",
      "a_13.mp4\n",
      "a_14.mp4\n",
      "a_15.mp4\n",
      "a_16.mp4\n",
      "a_17.mp4\n",
      "a_18.mp4\n",
      "a_19.mp4\n",
      "a_20.mp4\n",
      "a_21.mp4\n",
      "a_22.mp4\n",
      "a_23.mp4\n",
      "a_24.mp4\n",
      "a_25.mp4\n",
      "a_26.mp4\n",
      "MoviePy error: failed to read the duration of file /home/cygnet/Downloads/stream/stream_v1/a_26.mp4.\n",
      "Here are the file infos returned by ffmpeg:\n",
      "\n",
      "ffmpeg version 4.2.2-static https://johnvansickle.com/ffmpeg/  Copyright (c) 2000-2019 the FFmpeg developers\n",
      "  built with gcc 8 (Debian 8.3.0-6)\n",
      "  configuration: --enable-gpl --enable-version3 --enable-static --disable-debug --disable-ffplay --disable-indev=sndio --disable-outdev=sndio --cc=gcc --enable-fontconfig --enable-frei0r --enable-gnutls --enable-gmp --enable-libgme --enable-gray --enable-libaom --enable-libfribidi --enable-libass --enable-libvmaf --enable-libfreetype --enable-libmp3lame --enable-libopencore-amrnb --enable-libopencore-amrwb --enable-libopenjpeg --enable-librubberband --enable-libsoxr --enable-libspeex --enable-libsrt --enable-libvorbis --enable-libopus --enable-libtheora --enable-libvidstab --enable-libvo-amrwbenc --enable-libvpx --enable-libwebp --enable-libx264 --enable-libx265 --enable-libxml2 --enable-libdav1d --enable-libxvid --enable-libzvbi --enable-libzimg\n",
      "  libavutil      56. 31.100 / 56. 31.100\n",
      "  libavcodec     58. 54.100 / 58. 54.100\n",
      "  libavformat    58. 29.100 / 58. 29.100\n",
      "  libavdevice    58.  8.100 / 58.  8.100\n",
      "  libavfilter     7. 57.100 /  7. 57.100\n",
      "  libswscale      5.  5.100 /  5.  5.100\n",
      "  libswresample   3.  5.100 /  3.  5.100\n",
      "  libpostproc    55.  5.100 / 55.  5.100\n",
      "[mov,mp4,m4a,3gp,3g2,mj2 @ 0x62db640] moov atom not found\n",
      "/home/cygnet/Downloads/stream/stream_v1/a_26.mp4: Invalid data found when processing input\n",
      "\n",
      "a_27.mp4\n",
      "a_28.mp4\n",
      "a_29.mp4\n",
      "a_30.mp4\n",
      "a_31.mp4\n",
      "a_32.mp4\n",
      "a_33.mp4\n",
      "a_34.mp4\n",
      "a_35.mp4\n",
      "a_36.mp4\n",
      "a_37.mp4\n",
      "a_38.mp4\n",
      "a_39.mp4\n",
      "a_40.mp4\n",
      "a_41.mp4\n",
      "MoviePy error: failed to read the duration of file /home/cygnet/Downloads/stream/stream_v1/a_41.mp4.\n",
      "Here are the file infos returned by ffmpeg:\n",
      "\n",
      "ffmpeg version 4.2.2-static https://johnvansickle.com/ffmpeg/  Copyright (c) 2000-2019 the FFmpeg developers\n",
      "  built with gcc 8 (Debian 8.3.0-6)\n",
      "  configuration: --enable-gpl --enable-version3 --enable-static --disable-debug --disable-ffplay --disable-indev=sndio --disable-outdev=sndio --cc=gcc --enable-fontconfig --enable-frei0r --enable-gnutls --enable-gmp --enable-libgme --enable-gray --enable-libaom --enable-libfribidi --enable-libass --enable-libvmaf --enable-libfreetype --enable-libmp3lame --enable-libopencore-amrnb --enable-libopencore-amrwb --enable-libopenjpeg --enable-librubberband --enable-libsoxr --enable-libspeex --enable-libsrt --enable-libvorbis --enable-libopus --enable-libtheora --enable-libvidstab --enable-libvo-amrwbenc --enable-libvpx --enable-libwebp --enable-libx264 --enable-libx265 --enable-libxml2 --enable-libdav1d --enable-libxvid --enable-libzvbi --enable-libzimg\n",
      "  libavutil      56. 31.100 / 56. 31.100\n",
      "  libavcodec     58. 54.100 / 58. 54.100\n",
      "  libavformat    58. 29.100 / 58. 29.100\n",
      "  libavdevice    58.  8.100 / 58.  8.100\n",
      "  libavfilter     7. 57.100 /  7. 57.100\n",
      "  libswscale      5.  5.100 /  5.  5.100\n",
      "  libswresample   3.  5.100 /  3.  5.100\n",
      "  libpostproc    55.  5.100 / 55.  5.100\n",
      "[mov,mp4,m4a,3gp,3g2,mj2 @ 0x7061640] moov atom not found\n",
      "/home/cygnet/Downloads/stream/stream_v1/a_41.mp4: Invalid data found when processing input\n",
      "\n",
      "a_42.mp4\n",
      "a_43.mp4\n",
      "a_44.mp4\n",
      "a_45.mp4\n",
      "a_46.mp4\n",
      "a_47.mp4\n",
      "a_48.mp4\n",
      "a_49.mp4\n",
      "a_50.mp4\n",
      "a_51.mp4\n",
      "a_52.mp4\n",
      "a_53.mp4\n",
      "a_54.mp4\n",
      "a_55.mp4\n",
      "a_56.mp4\n",
      "a_57.mp4\n",
      "a_58.mp4\n",
      "a_59.mp4\n",
      "a_60.mp4\n",
      "a_61.mp4\n",
      "a_62.mp4\n",
      "a_63.mp4\n",
      "a_64.mp4\n",
      "a_65.mp4\n",
      "a_66.mp4\n",
      "a_67.mp4\n",
      "a_68.mp4\n",
      "a_69.mp4\n",
      "a_70.mp4\n",
      "a_71.mp4\n",
      "a_72.mp4\n",
      "a_73.mp4\n",
      "a_74.mp4\n",
      "a_75.mp4\n",
      "a_76.mp4\n",
      "a_77.mp4\n",
      "a_78.mp4\n",
      "a_79.mp4\n",
      "a_80.mp4\n",
      "a_81.mp4\n",
      "a_82.mp4\n",
      "MoviePy error: failed to read the duration of file /home/cygnet/Downloads/stream/stream_v1/a_82.mp4.\n",
      "Here are the file infos returned by ffmpeg:\n",
      "\n",
      "ffmpeg version 4.2.2-static https://johnvansickle.com/ffmpeg/  Copyright (c) 2000-2019 the FFmpeg developers\n",
      "  built with gcc 8 (Debian 8.3.0-6)\n",
      "  configuration: --enable-gpl --enable-version3 --enable-static --disable-debug --disable-ffplay --disable-indev=sndio --disable-outdev=sndio --cc=gcc --enable-fontconfig --enable-frei0r --enable-gnutls --enable-gmp --enable-libgme --enable-gray --enable-libaom --enable-libfribidi --enable-libass --enable-libvmaf --enable-libfreetype --enable-libmp3lame --enable-libopencore-amrnb --enable-libopencore-amrwb --enable-libopenjpeg --enable-librubberband --enable-libsoxr --enable-libspeex --enable-libsrt --enable-libvorbis --enable-libopus --enable-libtheora --enable-libvidstab --enable-libvo-amrwbenc --enable-libvpx --enable-libwebp --enable-libx264 --enable-libx265 --enable-libxml2 --enable-libdav1d --enable-libxvid --enable-libzvbi --enable-libzimg\n",
      "  libavutil      56. 31.100 / 56. 31.100\n",
      "  libavcodec     58. 54.100 / 58. 54.100\n",
      "  libavformat    58. 29.100 / 58. 29.100\n",
      "  libavdevice    58.  8.100 / 58.  8.100\n",
      "  libavfilter     7. 57.100 /  7. 57.100\n",
      "  libswscale      5.  5.100 /  5.  5.100\n",
      "  libswresample   3.  5.100 /  3.  5.100\n",
      "  libpostproc    55.  5.100 / 55.  5.100\n",
      "[mov,mp4,m4a,3gp,3g2,mj2 @ 0x67d5640] moov atom not found\n",
      "/home/cygnet/Downloads/stream/stream_v1/a_82.mp4: Invalid data found when processing input\n",
      "\n",
      "a_83.mp4\n",
      "a_84.mp4\n",
      "a_85.mp4\n",
      "a_86.mp4\n",
      "a_87.mp4\n",
      "a_88.mp4\n",
      "a_89.mp4\n",
      "a_90.mp4\n",
      "a_91.mp4\n",
      "a_92.mp4\n",
      "a_93.mp4\n",
      "a_94.mp4\n",
      "a_95.mp4\n",
      "a_96.mp4\n",
      "a_97.mp4\n",
      "a_98.mp4\n",
      "a_99.mp4\n",
      "a_100.mp4\n",
      "a_101.mp4\n"
     ]
    },
    {
     "name": "stderr",
     "output_type": "stream",
     "text": [
      "t:   0%|                         | 19/249492 [00:00<22:42, 183.15it/s, now=None]"
     ]
    },
    {
     "name": "stdout",
     "output_type": "stream",
     "text": [
      "Moviepy - Building video export.mp4.\n",
      "Moviepy - Writing video export.mp4\n",
      "\n"
     ]
    },
    {
     "name": "stderr",
     "output_type": "stream",
     "text": [
      "                                                                                \r"
     ]
    },
    {
     "name": "stdout",
     "output_type": "stream",
     "text": [
      "Moviepy - Done !\n",
      "Moviepy - video ready export.mp4\n"
     ]
    }
   ],
   "source": [
    "from moviepy.editor import VideoFileClip, concatenate_videoclips\n",
    "from natsort import natsorted\n",
    "import os\n",
    "\n",
    "#path is path to folder of videos\n",
    "def concatVideos(path) :\n",
    "    currentVideo = None\n",
    "    #List all files in the directory and read points from text files one by one\n",
    "    for filePath in natsorted(os.listdir(path)):\n",
    "        try:\n",
    "            print(filePath)\n",
    "            if filePath.endswith(\".mp4\"):\n",
    "                if currentVideo == None:\n",
    "                    currentVideo = VideoFileClip(path + filePath)\n",
    "                    continue\n",
    "                video_2 = VideoFileClip(path+filePath)\n",
    "                currentVideo = concatenate_videoclips([currentVideo,video_2])\n",
    "        except Exception as e:\n",
    "            print(e)\n",
    "\n",
    "    currentVideo.write_videofile(\"export.mp4\")\n",
    "                                 \n",
    "concatVideos('/home/cygnet/Downloads/stream/stream_v1/')                             "
   ]
  },
  {
   "cell_type": "code",
   "execution_count": null,
   "id": "5620c8c5",
   "metadata": {},
   "outputs": [],
   "source": []
  },
  {
   "cell_type": "code",
   "execution_count": null,
   "id": "2181f7b7",
   "metadata": {},
   "outputs": [],
   "source": []
  },
  {
   "cell_type": "code",
   "execution_count": null,
   "id": "f0a7398c",
   "metadata": {},
   "outputs": [],
   "source": []
  },
  {
   "cell_type": "code",
   "execution_count": 94,
   "id": "d6553318",
   "metadata": {},
   "outputs": [],
   "source": [
    "N = 2"
   ]
  },
  {
   "cell_type": "code",
   "execution_count": 98,
   "id": "2b2aae7c",
   "metadata": {},
   "outputs": [],
   "source": [
    "S = 4"
   ]
  },
  {
   "cell_type": "code",
   "execution_count": 110,
   "id": "22de89e2",
   "metadata": {},
   "outputs": [],
   "source": [
    "s = set()\n",
    "for i,j in zip(range(S), reversed(range(S+1))):\n",
    "    if i + j == S:\n",
    "        if i >= 0 and j <= N:\n",
    "            s.add((i,j))\n",
    "            s.add((j,i))"
   ]
  },
  {
   "cell_type": "code",
   "execution_count": 111,
   "id": "0fd6972b",
   "metadata": {},
   "outputs": [
    {
     "data": {
      "text/plain": [
       "{(1, 3), (2, 2), (3, 1)}"
      ]
     },
     "execution_count": 111,
     "metadata": {},
     "output_type": "execute_result"
    }
   ],
   "source": [
    "s"
   ]
  },
  {
   "cell_type": "code",
   "execution_count": 73,
   "id": "f6aa5f30",
   "metadata": {},
   "outputs": [
    {
     "data": {
      "text/plain": [
       "1"
      ]
     },
     "execution_count": 73,
     "metadata": {},
     "output_type": "execute_result"
    }
   ],
   "source": [
    "import math\n",
    "math.floor(S)"
   ]
  },
  {
   "cell_type": "code",
   "execution_count": 74,
   "id": "eba87f68",
   "metadata": {},
   "outputs": [
    {
     "data": {
      "text/plain": [
       "1"
      ]
     },
     "execution_count": 74,
     "metadata": {},
     "output_type": "execute_result"
    }
   ],
   "source": [
    "math.ceil(S)"
   ]
  },
  {
   "cell_type": "code",
   "execution_count": null,
   "id": "ba80128b",
   "metadata": {},
   "outputs": [],
   "source": []
  }
 ],
 "metadata": {
  "kernelspec": {
   "display_name": "Python 3 (ipykernel)",
   "language": "python",
   "name": "python3"
  },
  "language_info": {
   "codemirror_mode": {
    "name": "ipython",
    "version": 3
   },
   "file_extension": ".py",
   "mimetype": "text/x-python",
   "name": "python",
   "nbconvert_exporter": "python",
   "pygments_lexer": "ipython3",
   "version": "3.10.6"
  }
 },
 "nbformat": 4,
 "nbformat_minor": 5
}
