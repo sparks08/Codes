{
 "cells": [
  {
   "cell_type": "code",
   "execution_count": 1,
   "id": "77784c8e",
   "metadata": {},
   "outputs": [],
   "source": [
    "import pandas as pd"
   ]
  },
  {
   "cell_type": "code",
   "execution_count": 2,
   "id": "fd11a8a7",
   "metadata": {},
   "outputs": [
    {
     "data": {
      "text/html": [
       "<div>\n",
       "<style scoped>\n",
       "    .dataframe tbody tr th:only-of-type {\n",
       "        vertical-align: middle;\n",
       "    }\n",
       "\n",
       "    .dataframe tbody tr th {\n",
       "        vertical-align: top;\n",
       "    }\n",
       "\n",
       "    .dataframe thead th {\n",
       "        text-align: right;\n",
       "    }\n",
       "</style>\n",
       "<table border=\"1\" class=\"dataframe\">\n",
       "  <thead>\n",
       "    <tr style=\"text-align: right;\">\n",
       "      <th></th>\n",
       "      <th>Data.Precipitation</th>\n",
       "      <th>Date.Full</th>\n",
       "      <th>Date.Month</th>\n",
       "      <th>Date.Week of</th>\n",
       "      <th>Date.Year</th>\n",
       "      <th>Station.City</th>\n",
       "      <th>Station.Code</th>\n",
       "      <th>Station.Location</th>\n",
       "      <th>Station.State</th>\n",
       "      <th>Data.Temperature.Avg Temp</th>\n",
       "      <th>Data.Temperature.Max Temp</th>\n",
       "      <th>Data.Temperature.Min Temp</th>\n",
       "      <th>Data.Wind.Direction</th>\n",
       "      <th>Data.Wind.Speed</th>\n",
       "    </tr>\n",
       "  </thead>\n",
       "  <tbody>\n",
       "    <tr>\n",
       "      <th>0</th>\n",
       "      <td>0.00</td>\n",
       "      <td>2016-01-03</td>\n",
       "      <td>1</td>\n",
       "      <td>3</td>\n",
       "      <td>2016</td>\n",
       "      <td>Birmingham</td>\n",
       "      <td>BHM</td>\n",
       "      <td>Birmingham, AL</td>\n",
       "      <td>Alabama</td>\n",
       "      <td>39</td>\n",
       "      <td>46</td>\n",
       "      <td>32</td>\n",
       "      <td>33</td>\n",
       "      <td>4.33</td>\n",
       "    </tr>\n",
       "    <tr>\n",
       "      <th>1</th>\n",
       "      <td>0.00</td>\n",
       "      <td>2016-01-03</td>\n",
       "      <td>1</td>\n",
       "      <td>3</td>\n",
       "      <td>2016</td>\n",
       "      <td>Huntsville</td>\n",
       "      <td>HSV</td>\n",
       "      <td>Huntsville, AL</td>\n",
       "      <td>Alabama</td>\n",
       "      <td>39</td>\n",
       "      <td>47</td>\n",
       "      <td>31</td>\n",
       "      <td>32</td>\n",
       "      <td>3.86</td>\n",
       "    </tr>\n",
       "    <tr>\n",
       "      <th>2</th>\n",
       "      <td>0.16</td>\n",
       "      <td>2016-01-03</td>\n",
       "      <td>1</td>\n",
       "      <td>3</td>\n",
       "      <td>2016</td>\n",
       "      <td>Mobile</td>\n",
       "      <td>MOB</td>\n",
       "      <td>Mobile, AL</td>\n",
       "      <td>Alabama</td>\n",
       "      <td>46</td>\n",
       "      <td>51</td>\n",
       "      <td>41</td>\n",
       "      <td>35</td>\n",
       "      <td>9.73</td>\n",
       "    </tr>\n",
       "    <tr>\n",
       "      <th>3</th>\n",
       "      <td>0.00</td>\n",
       "      <td>2016-01-03</td>\n",
       "      <td>1</td>\n",
       "      <td>3</td>\n",
       "      <td>2016</td>\n",
       "      <td>Montgomery</td>\n",
       "      <td>MGM</td>\n",
       "      <td>Montgomery, AL</td>\n",
       "      <td>Alabama</td>\n",
       "      <td>45</td>\n",
       "      <td>52</td>\n",
       "      <td>38</td>\n",
       "      <td>32</td>\n",
       "      <td>6.86</td>\n",
       "    </tr>\n",
       "    <tr>\n",
       "      <th>4</th>\n",
       "      <td>0.01</td>\n",
       "      <td>2016-01-03</td>\n",
       "      <td>1</td>\n",
       "      <td>3</td>\n",
       "      <td>2016</td>\n",
       "      <td>Anchorage</td>\n",
       "      <td>ANC</td>\n",
       "      <td>Anchorage, AK</td>\n",
       "      <td>Alaska</td>\n",
       "      <td>34</td>\n",
       "      <td>38</td>\n",
       "      <td>29</td>\n",
       "      <td>19</td>\n",
       "      <td>7.80</td>\n",
       "    </tr>\n",
       "  </tbody>\n",
       "</table>\n",
       "</div>"
      ],
      "text/plain": [
       "   Data.Precipitation   Date.Full  Date.Month  Date.Week of  Date.Year  \\\n",
       "0                0.00  2016-01-03           1             3       2016   \n",
       "1                0.00  2016-01-03           1             3       2016   \n",
       "2                0.16  2016-01-03           1             3       2016   \n",
       "3                0.00  2016-01-03           1             3       2016   \n",
       "4                0.01  2016-01-03           1             3       2016   \n",
       "\n",
       "  Station.City Station.Code Station.Location Station.State  \\\n",
       "0   Birmingham          BHM   Birmingham, AL       Alabama   \n",
       "1   Huntsville          HSV   Huntsville, AL       Alabama   \n",
       "2       Mobile          MOB       Mobile, AL       Alabama   \n",
       "3   Montgomery          MGM   Montgomery, AL       Alabama   \n",
       "4    Anchorage          ANC    Anchorage, AK        Alaska   \n",
       "\n",
       "   Data.Temperature.Avg Temp  Data.Temperature.Max Temp  \\\n",
       "0                         39                         46   \n",
       "1                         39                         47   \n",
       "2                         46                         51   \n",
       "3                         45                         52   \n",
       "4                         34                         38   \n",
       "\n",
       "   Data.Temperature.Min Temp  Data.Wind.Direction  Data.Wind.Speed  \n",
       "0                         32                   33             4.33  \n",
       "1                         31                   32             3.86  \n",
       "2                         41                   35             9.73  \n",
       "3                         38                   32             6.86  \n",
       "4                         29                   19             7.80  "
      ]
     },
     "execution_count": 2,
     "metadata": {},
     "output_type": "execute_result"
    }
   ],
   "source": [
    "df = pd.read_csv('/home/cygnet/Downloads/weather.csv')\n",
    "df.head()"
   ]
  },
  {
   "cell_type": "code",
   "execution_count": 3,
   "id": "c33be30c",
   "metadata": {},
   "outputs": [],
   "source": [
    "new =df[['Date.Month','Station.City','Data.Precipitation']].groupby(['Date.Month','Station.City']).mean()"
   ]
  },
  {
   "cell_type": "code",
   "execution_count": 4,
   "id": "a32a2596",
   "metadata": {},
   "outputs": [
    {
     "data": {
      "text/html": [
       "<div>\n",
       "<style scoped>\n",
       "    .dataframe tbody tr th:only-of-type {\n",
       "        vertical-align: middle;\n",
       "    }\n",
       "\n",
       "    .dataframe tbody tr th {\n",
       "        vertical-align: top;\n",
       "    }\n",
       "\n",
       "    .dataframe thead th {\n",
       "        text-align: right;\n",
       "    }\n",
       "</style>\n",
       "<table border=\"1\" class=\"dataframe\">\n",
       "  <thead>\n",
       "    <tr style=\"text-align: right;\">\n",
       "      <th></th>\n",
       "      <th>Date.Month</th>\n",
       "      <th>Station.City</th>\n",
       "      <th>Data.Precipitation</th>\n",
       "    </tr>\n",
       "  </thead>\n",
       "  <tbody>\n",
       "    <tr>\n",
       "      <th>0</th>\n",
       "      <td>1</td>\n",
       "      <td>Aberdeen</td>\n",
       "      <td>0.025000</td>\n",
       "    </tr>\n",
       "    <tr>\n",
       "      <th>1</th>\n",
       "      <td>1</td>\n",
       "      <td>Abilene</td>\n",
       "      <td>0.006667</td>\n",
       "    </tr>\n",
       "    <tr>\n",
       "      <th>2</th>\n",
       "      <td>1</td>\n",
       "      <td>Akron</td>\n",
       "      <td>0.295000</td>\n",
       "    </tr>\n",
       "    <tr>\n",
       "      <th>3</th>\n",
       "      <td>1</td>\n",
       "      <td>Alamosa</td>\n",
       "      <td>0.115000</td>\n",
       "    </tr>\n",
       "    <tr>\n",
       "      <th>4</th>\n",
       "      <td>1</td>\n",
       "      <td>Albany</td>\n",
       "      <td>0.245000</td>\n",
       "    </tr>\n",
       "  </tbody>\n",
       "</table>\n",
       "</div>"
      ],
      "text/plain": [
       "   Date.Month Station.City  Data.Precipitation\n",
       "0           1     Aberdeen            0.025000\n",
       "1           1      Abilene            0.006667\n",
       "2           1        Akron            0.295000\n",
       "3           1      Alamosa            0.115000\n",
       "4           1       Albany            0.245000"
      ]
     },
     "execution_count": 4,
     "metadata": {},
     "output_type": "execute_result"
    }
   ],
   "source": [
    "new = new.reset_index()\n",
    "new.head()"
   ]
  },
  {
   "cell_type": "code",
   "execution_count": 18,
   "id": "e6c6abc6",
   "metadata": {},
   "outputs": [
    {
     "data": {
      "text/html": [
       "<div>\n",
       "<style scoped>\n",
       "    .dataframe tbody tr th:only-of-type {\n",
       "        vertical-align: middle;\n",
       "    }\n",
       "\n",
       "    .dataframe tbody tr th {\n",
       "        vertical-align: top;\n",
       "    }\n",
       "\n",
       "    .dataframe thead th {\n",
       "        text-align: right;\n",
       "    }\n",
       "</style>\n",
       "<table border=\"1\" class=\"dataframe\">\n",
       "  <thead>\n",
       "    <tr style=\"text-align: right;\">\n",
       "      <th></th>\n",
       "      <th>Date.Month</th>\n",
       "      <th>Station.City</th>\n",
       "      <th>Data.Precipitation</th>\n",
       "    </tr>\n",
       "  </thead>\n",
       "  <tbody>\n",
       "    <tr>\n",
       "      <th>0</th>\n",
       "      <td>1</td>\n",
       "      <td>Quillayute</td>\n",
       "      <td>3.230000</td>\n",
       "    </tr>\n",
       "    <tr>\n",
       "      <th>1</th>\n",
       "      <td>1</td>\n",
       "      <td>Ketchikan</td>\n",
       "      <td>3.003333</td>\n",
       "    </tr>\n",
       "    <tr>\n",
       "      <th>2</th>\n",
       "      <td>1</td>\n",
       "      <td>Yakutat</td>\n",
       "      <td>2.636667</td>\n",
       "    </tr>\n",
       "    <tr>\n",
       "      <th>3</th>\n",
       "      <td>1</td>\n",
       "      <td>Astoria</td>\n",
       "      <td>2.555000</td>\n",
       "    </tr>\n",
       "    <tr>\n",
       "      <th>4</th>\n",
       "      <td>1</td>\n",
       "      <td>Evansville</td>\n",
       "      <td>2.383333</td>\n",
       "    </tr>\n",
       "  </tbody>\n",
       "</table>\n",
       "</div>"
      ],
      "text/plain": [
       "   Date.Month Station.City  Data.Precipitation\n",
       "0           1   Quillayute            3.230000\n",
       "1           1    Ketchikan            3.003333\n",
       "2           1      Yakutat            2.636667\n",
       "3           1      Astoria            2.555000\n",
       "4           1   Evansville            2.383333"
      ]
     },
     "execution_count": 18,
     "metadata": {},
     "output_type": "execute_result"
    }
   ],
   "source": [
    "li = list()\n",
    "empty_frame = {}\n",
    "for i in new['Date.Month'].unique():\n",
    "    top_1  = new[new['Date.Month'] == i].nlargest(10 , columns=['Data.Precipitation'])\n",
    "    top_1.reset_index(drop = True, inplace = True)\n",
    "    li.append(top_1)\n",
    "modify_date = pd.concat(li) \n",
    "modify_date.head()"
   ]
  },
  {
   "cell_type": "code",
   "execution_count": 67,
   "id": "ec265cf8",
   "metadata": {},
   "outputs": [
    {
     "data": {
      "application/vnd.plotly.v1+json": {
       "config": {
        "plotlyServerURL": "https://plot.ly"
       },
       "data": [
        {
         "alignmentgroup": "True",
         "hovertemplate": "Station.City=Quillayute<br>Date.Month=%{x}<br>Data.Precipitation=%{y}<extra></extra>",
         "legendgroup": "Quillayute",
         "marker": {
          "color": "#636efa",
          "pattern": {
           "shape": ""
          }
         },
         "name": "Quillayute",
         "offsetgroup": "Quillayute",
         "orientation": "v",
         "showlegend": true,
         "textposition": "auto",
         "type": "bar",
         "x": [
          1,
          2,
          3,
          10,
          11,
          12
         ],
         "xaxis": "x",
         "y": [
          3.23,
          3.8875,
          3.9575,
          4.1579999999999995,
          6.055000000000001,
          2.3674999999999997
         ],
         "yaxis": "y"
        },
        {
         "alignmentgroup": "True",
         "hovertemplate": "Station.City=Ketchikan<br>Date.Month=%{x}<br>Data.Precipitation=%{y}<extra></extra>",
         "legendgroup": "Ketchikan",
         "marker": {
          "color": "#EF553B",
          "pattern": {
           "shape": ""
          }
         },
         "name": "Ketchikan",
         "offsetgroup": "Ketchikan",
         "orientation": "v",
         "showlegend": true,
         "textposition": "auto",
         "type": "bar",
         "x": [
          1,
          2,
          3,
          4,
          9,
          11,
          12
         ],
         "xaxis": "x",
         "y": [
          3.0033333333333334,
          6.217499999999999,
          2.6175,
          2.9524999999999997,
          3.59,
          3.7475,
          1.8925
         ],
         "yaxis": "y"
        },
        {
         "alignmentgroup": "True",
         "hovertemplate": "Station.City=Yakutat<br>Date.Month=%{x}<br>Data.Precipitation=%{y}<extra></extra>",
         "legendgroup": "Yakutat",
         "marker": {
          "color": "#00cc96",
          "pattern": {
           "shape": ""
          }
         },
         "name": "Yakutat",
         "offsetgroup": "Yakutat",
         "orientation": "v",
         "showlegend": true,
         "textposition": "auto",
         "type": "bar",
         "x": [
          1,
          2,
          4,
          7,
          8,
          9,
          11,
          12
         ],
         "xaxis": "x",
         "y": [
          2.6366666666666667,
          2.7175000000000002,
          1.8275000000000001,
          1.7100000000000002,
          3.3274999999999997,
          3.9875,
          2.96,
          1.7225
         ],
         "yaxis": "y"
        },
        {
         "alignmentgroup": "True",
         "hovertemplate": "Station.City=Astoria<br>Date.Month=%{x}<br>Data.Precipitation=%{y}<extra></extra>",
         "legendgroup": "Astoria",
         "marker": {
          "color": "#ab63fa",
          "pattern": {
           "shape": ""
          }
         },
         "name": "Astoria",
         "offsetgroup": "Astoria",
         "orientation": "v",
         "showlegend": true,
         "textposition": "auto",
         "type": "bar",
         "x": [
          1,
          2,
          3,
          10,
          11,
          12
         ],
         "xaxis": "x",
         "y": [
          2.555,
          1.945,
          3.0175,
          3.144,
          4.157500000000001,
          2.1925
         ],
         "yaxis": "y"
        },
        {
         "alignmentgroup": "True",
         "hovertemplate": "Station.City=Evansville<br>Date.Month=%{x}<br>Data.Precipitation=%{y}<extra></extra>",
         "legendgroup": "Evansville",
         "marker": {
          "color": "#FFA15A",
          "pattern": {
           "shape": ""
          }
         },
         "name": "Evansville",
         "offsetgroup": "Evansville",
         "orientation": "v",
         "showlegend": true,
         "textposition": "auto",
         "type": "bar",
         "x": [
          1,
          7
         ],
         "xaxis": "x",
         "y": [
          2.3833333333333333,
          1.8399999999999999
         ],
         "yaxis": "y"
        },
        {
         "alignmentgroup": "True",
         "hovertemplate": "Station.City=Redding<br>Date.Month=%{x}<br>Data.Precipitation=%{y}<extra></extra>",
         "legendgroup": "Redding",
         "marker": {
          "color": "#19d3f3",
          "pattern": {
           "shape": ""
          }
         },
         "name": "Redding",
         "offsetgroup": "Redding",
         "orientation": "v",
         "showlegend": true,
         "textposition": "auto",
         "type": "bar",
         "x": [
          1,
          3
         ],
         "xaxis": "x",
         "y": [
          2.1133333333333333,
          2.59
         ],
         "yaxis": "y"
        },
        {
         "alignmentgroup": "True",
         "hovertemplate": "Station.City=Annette<br>Date.Month=%{x}<br>Data.Precipitation=%{y}<extra></extra>",
         "legendgroup": "Annette",
         "marker": {
          "color": "#FF6692",
          "pattern": {
           "shape": ""
          }
         },
         "name": "Annette",
         "offsetgroup": "Annette",
         "orientation": "v",
         "showlegend": true,
         "textposition": "auto",
         "type": "bar",
         "x": [
          1,
          2,
          4,
          9,
          11
         ],
         "xaxis": "x",
         "y": [
          1.755,
          3.8674999999999997,
          2.025,
          2.5175,
          2.4475000000000002
         ],
         "yaxis": "y"
        },
        {
         "alignmentgroup": "True",
         "hovertemplate": "Station.City=Kodiak<br>Date.Month=%{x}<br>Data.Precipitation=%{y}<extra></extra>",
         "legendgroup": "Kodiak",
         "marker": {
          "color": "#B6E880",
          "pattern": {
           "shape": ""
          }
         },
         "name": "Kodiak",
         "offsetgroup": "Kodiak",
         "orientation": "v",
         "showlegend": true,
         "textposition": "auto",
         "type": "bar",
         "x": [
          1,
          2,
          10,
          11
         ],
         "xaxis": "x",
         "y": [
          1.74,
          3.2024999999999997,
          2.024,
          2.21
         ],
         "yaxis": "y"
        },
        {
         "alignmentgroup": "True",
         "hovertemplate": "Station.City=West Palm Beach<br>Date.Month=%{x}<br>Data.Precipitation=%{y}<extra></extra>",
         "legendgroup": "West Palm Beach",
         "marker": {
          "color": "#FF97FF",
          "pattern": {
           "shape": ""
          }
         },
         "name": "West Palm Beach",
         "offsetgroup": "West Palm Beach",
         "orientation": "v",
         "showlegend": true,
         "textposition": "auto",
         "type": "bar",
         "x": [
          1
         ],
         "xaxis": "x",
         "y": [
          1.655
         ],
         "yaxis": "y"
        },
        {
         "alignmentgroup": "True",
         "hovertemplate": "Station.City=Vero Beach<br>Date.Month=%{x}<br>Data.Precipitation=%{y}<extra></extra>",
         "legendgroup": "Vero Beach",
         "marker": {
          "color": "#FECB52",
          "pattern": {
           "shape": ""
          }
         },
         "name": "Vero Beach",
         "offsetgroup": "Vero Beach",
         "orientation": "v",
         "showlegend": true,
         "textposition": "auto",
         "type": "bar",
         "x": [
          1,
          5
         ],
         "xaxis": "x",
         "y": [
          1.6083333333333334,
          3.598
         ],
         "yaxis": "y"
        },
        {
         "alignmentgroup": "True",
         "hovertemplate": "Station.City=Crossville<br>Date.Month=%{x}<br>Data.Precipitation=%{y}<extra></extra>",
         "legendgroup": "Crossville",
         "marker": {
          "color": "#636efa",
          "pattern": {
           "shape": ""
          }
         },
         "name": "Crossville",
         "offsetgroup": "Crossville",
         "orientation": "v",
         "showlegend": true,
         "textposition": "auto",
         "type": "bar",
         "x": [
          2
         ],
         "xaxis": "x",
         "y": [
          2.235
         ],
         "yaxis": "y"
        },
        {
         "alignmentgroup": "True",
         "hovertemplate": "Station.City=Cape Hatteras<br>Date.Month=%{x}<br>Data.Precipitation=%{y}<extra></extra>",
         "legendgroup": "Cape Hatteras",
         "marker": {
          "color": "#EF553B",
          "pattern": {
           "shape": ""
          }
         },
         "name": "Cape Hatteras",
         "offsetgroup": "Cape Hatteras",
         "orientation": "v",
         "showlegend": true,
         "textposition": "auto",
         "type": "bar",
         "x": [
          2,
          6
         ],
         "xaxis": "x",
         "y": [
          2.06,
          2.545
         ],
         "yaxis": "y"
        },
        {
         "alignmentgroup": "True",
         "hovertemplate": "Station.City=Cordova<br>Date.Month=%{x}<br>Data.Precipitation=%{y}<extra></extra>",
         "legendgroup": "Cordova",
         "marker": {
          "color": "#00cc96",
          "pattern": {
           "shape": ""
          }
         },
         "name": "Cordova",
         "offsetgroup": "Cordova",
         "orientation": "v",
         "showlegend": true,
         "textposition": "auto",
         "type": "bar",
         "x": [
          2,
          8,
          9
         ],
         "xaxis": "x",
         "y": [
          1.9725,
          5.3025,
          3.2375
         ],
         "yaxis": "y"
        },
        {
         "alignmentgroup": "True",
         "hovertemplate": "Station.City=Birmingham<br>Date.Month=%{x}<br>Data.Precipitation=%{y}<extra></extra>",
         "legendgroup": "Birmingham",
         "marker": {
          "color": "#ab63fa",
          "pattern": {
           "shape": ""
          }
         },
         "name": "Birmingham",
         "offsetgroup": "Birmingham",
         "orientation": "v",
         "showlegend": true,
         "textposition": "auto",
         "type": "bar",
         "x": [
          2
         ],
         "xaxis": "x",
         "y": [
          1.865
         ],
         "yaxis": "y"
        },
        {
         "alignmentgroup": "True",
         "hovertemplate": "Station.City=Greenville<br>Date.Month=%{x}<br>Data.Precipitation=%{y}<extra></extra>",
         "legendgroup": "Greenville",
         "marker": {
          "color": "#FFA15A",
          "pattern": {
           "shape": ""
          }
         },
         "name": "Greenville",
         "offsetgroup": "Greenville",
         "orientation": "v",
         "showlegend": true,
         "textposition": "auto",
         "type": "bar",
         "x": [
          3
         ],
         "xaxis": "x",
         "y": [
          3.7249999999999996
         ],
         "yaxis": "y"
        },
        {
         "alignmentgroup": "True",
         "hovertemplate": "Station.City=Shreveport<br>Date.Month=%{x}<br>Data.Precipitation=%{y}<extra></extra>",
         "legendgroup": "Shreveport",
         "marker": {
          "color": "#19d3f3",
          "pattern": {
           "shape": ""
          }
         },
         "name": "Shreveport",
         "offsetgroup": "Shreveport",
         "orientation": "v",
         "showlegend": true,
         "textposition": "auto",
         "type": "bar",
         "x": [
          3,
          4
         ],
         "xaxis": "x",
         "y": [
          3.1149999999999998,
          2.3025
         ],
         "yaxis": "y"
        },
        {
         "alignmentgroup": "True",
         "hovertemplate": "Station.City=Memphis<br>Date.Month=%{x}<br>Data.Precipitation=%{y}<extra></extra>",
         "legendgroup": "Memphis",
         "marker": {
          "color": "#FF6692",
          "pattern": {
           "shape": ""
          }
         },
         "name": "Memphis",
         "offsetgroup": "Memphis",
         "orientation": "v",
         "showlegend": true,
         "textposition": "auto",
         "type": "bar",
         "x": [
          3
         ],
         "xaxis": "x",
         "y": [
          3.0025
         ],
         "yaxis": "y"
        },
        {
         "alignmentgroup": "True",
         "hovertemplate": "Station.City=Hattiesburg<br>Date.Month=%{x}<br>Data.Precipitation=%{y}<extra></extra>",
         "legendgroup": "Hattiesburg",
         "marker": {
          "color": "#B6E880",
          "pattern": {
           "shape": ""
          }
         },
         "name": "Hattiesburg",
         "offsetgroup": "Hattiesburg",
         "orientation": "v",
         "showlegend": true,
         "textposition": "auto",
         "type": "bar",
         "x": [
          3
         ],
         "xaxis": "x",
         "y": [
          2.77
         ],
         "yaxis": "y"
        },
        {
         "alignmentgroup": "True",
         "hovertemplate": "Station.City=Mobile<br>Date.Month=%{x}<br>Data.Precipitation=%{y}<extra></extra>",
         "legendgroup": "Mobile",
         "marker": {
          "color": "#FF97FF",
          "pattern": {
           "shape": ""
          }
         },
         "name": "Mobile",
         "offsetgroup": "Mobile",
         "orientation": "v",
         "showlegend": true,
         "textposition": "auto",
         "type": "bar",
         "x": [
          3
         ],
         "xaxis": "x",
         "y": [
          2.5300000000000002
         ],
         "yaxis": "y"
        },
        {
         "alignmentgroup": "True",
         "hovertemplate": "Station.City=Baton Rouge<br>Date.Month=%{x}<br>Data.Precipitation=%{y}<extra></extra>",
         "legendgroup": "Baton Rouge",
         "marker": {
          "color": "#FECB52",
          "pattern": {
           "shape": ""
          }
         },
         "name": "Baton Rouge",
         "offsetgroup": "Baton Rouge",
         "orientation": "v",
         "showlegend": true,
         "textposition": "auto",
         "type": "bar",
         "x": [
          3,
          8
         ],
         "xaxis": "x",
         "y": [
          2.4974999999999996,
          7.635
         ],
         "yaxis": "y"
        },
        {
         "alignmentgroup": "True",
         "hovertemplate": "Station.City=San Juan<br>Date.Month=%{x}<br>Data.Precipitation=%{y}<extra></extra>",
         "legendgroup": "San Juan",
         "marker": {
          "color": "#636efa",
          "pattern": {
           "shape": ""
          }
         },
         "name": "San Juan",
         "offsetgroup": "San Juan",
         "orientation": "v",
         "showlegend": true,
         "textposition": "auto",
         "type": "bar",
         "x": [
          4,
          11
         ],
         "xaxis": "x",
         "y": [
          2.2325,
          4.16
         ],
         "yaxis": "y"
        },
        {
         "alignmentgroup": "True",
         "hovertemplate": "Station.City=Hilo<br>Date.Month=%{x}<br>Data.Precipitation=%{y}<extra></extra>",
         "legendgroup": "Hilo",
         "marker": {
          "color": "#EF553B",
          "pattern": {
           "shape": ""
          }
         },
         "name": "Hilo",
         "offsetgroup": "Hilo",
         "orientation": "v",
         "showlegend": true,
         "textposition": "auto",
         "type": "bar",
         "x": [
          4,
          6,
          8,
          9,
          10,
          11,
          12
         ],
         "xaxis": "x",
         "y": [
          2.1075,
          2.6049999999999995,
          4.904999999999999,
          2.4400000000000004,
          3.75,
          1.9175,
          4.825
         ],
         "yaxis": "y"
        },
        {
         "alignmentgroup": "True",
         "hovertemplate": "Station.City=Houston<br>Date.Month=%{x}<br>Data.Precipitation=%{y}<extra></extra>",
         "legendgroup": "Houston",
         "marker": {
          "color": "#00cc96",
          "pattern": {
           "shape": ""
          }
         },
         "name": "Houston",
         "offsetgroup": "Houston",
         "orientation": "v",
         "showlegend": true,
         "textposition": "auto",
         "type": "bar",
         "x": [
          4,
          6
         ],
         "xaxis": "x",
         "y": [
          2.0325,
          2.055
         ],
         "yaxis": "y"
        },
        {
         "alignmentgroup": "True",
         "hovertemplate": "Station.City=Macon<br>Date.Month=%{x}<br>Data.Precipitation=%{y}<extra></extra>",
         "legendgroup": "Macon",
         "marker": {
          "color": "#ab63fa",
          "pattern": {
           "shape": ""
          }
         },
         "name": "Macon",
         "offsetgroup": "Macon",
         "orientation": "v",
         "showlegend": true,
         "textposition": "auto",
         "type": "bar",
         "x": [
          4
         ],
         "xaxis": "x",
         "y": [
          1.8375
         ],
         "yaxis": "y"
        },
        {
         "alignmentgroup": "True",
         "hovertemplate": "Station.City=Beaumont/Port Arthur<br>Date.Month=%{x}<br>Data.Precipitation=%{y}<extra></extra>",
         "legendgroup": "Beaumont/Port Arthur",
         "marker": {
          "color": "#FFA15A",
          "pattern": {
           "shape": ""
          }
         },
         "name": "Beaumont/Port Arthur",
         "offsetgroup": "Beaumont/Port Arthur",
         "orientation": "v",
         "showlegend": true,
         "textposition": "auto",
         "type": "bar",
         "x": [
          4,
          5,
          6,
          12
         ],
         "xaxis": "x",
         "y": [
          1.8325,
          2.058,
          1.8900000000000001,
          2.38
         ],
         "yaxis": "y"
        },
        {
         "alignmentgroup": "True",
         "hovertemplate": "Station.City=New Orleans<br>Date.Month=%{x}<br>Data.Precipitation=%{y}<extra></extra>",
         "legendgroup": "New Orleans",
         "marker": {
          "color": "#19d3f3",
          "pattern": {
           "shape": ""
          }
         },
         "name": "New Orleans",
         "offsetgroup": "New Orleans",
         "orientation": "v",
         "showlegend": true,
         "textposition": "auto",
         "type": "bar",
         "x": [
          4,
          6,
          8
         ],
         "xaxis": "x",
         "y": [
          1.815,
          2.16,
          2.9675
         ],
         "yaxis": "y"
        },
        {
         "alignmentgroup": "True",
         "hovertemplate": "Station.City=Austin/Bergstrom<br>Date.Month=%{x}<br>Data.Precipitation=%{y}<extra></extra>",
         "legendgroup": "Austin/Bergstrom",
         "marker": {
          "color": "#FF6692",
          "pattern": {
           "shape": ""
          }
         },
         "name": "Austin/Bergstrom",
         "offsetgroup": "Austin/Bergstrom",
         "orientation": "v",
         "showlegend": true,
         "textposition": "auto",
         "type": "bar",
         "x": [
          5
         ],
         "xaxis": "x",
         "y": [
          2.9799999999999995
         ],
         "yaxis": "y"
        },
        {
         "alignmentgroup": "True",
         "hovertemplate": "Station.City=College Station<br>Date.Month=%{x}<br>Data.Precipitation=%{y}<extra></extra>",
         "legendgroup": "College Station",
         "marker": {
          "color": "#B6E880",
          "pattern": {
           "shape": ""
          }
         },
         "name": "College Station",
         "offsetgroup": "College Station",
         "orientation": "v",
         "showlegend": true,
         "textposition": "auto",
         "type": "bar",
         "x": [
          5
         ],
         "xaxis": "x",
         "y": [
          2.556
         ],
         "yaxis": "y"
        },
        {
         "alignmentgroup": "True",
         "hovertemplate": "Station.City=Lake Charles<br>Date.Month=%{x}<br>Data.Precipitation=%{y}<extra></extra>",
         "legendgroup": "Lake Charles",
         "marker": {
          "color": "#FF97FF",
          "pattern": {
           "shape": ""
          }
         },
         "name": "Lake Charles",
         "offsetgroup": "Lake Charles",
         "orientation": "v",
         "showlegend": true,
         "textposition": "auto",
         "type": "bar",
         "x": [
          5,
          6,
          8,
          12
         ],
         "xaxis": "x",
         "y": [
          2.164,
          2.285,
          3.6750000000000003,
          2.21
         ],
         "yaxis": "y"
        },
        {
         "alignmentgroup": "True",
         "hovertemplate": "Station.City=Kansas City<br>Date.Month=%{x}<br>Data.Precipitation=%{y}<extra></extra>",
         "legendgroup": "Kansas City",
         "marker": {
          "color": "#FECB52",
          "pattern": {
           "shape": ""
          }
         },
         "name": "Kansas City",
         "offsetgroup": "Kansas City",
         "orientation": "v",
         "showlegend": true,
         "textposition": "auto",
         "type": "bar",
         "x": [
          5,
          7
         ],
         "xaxis": "x",
         "y": [
          1.886,
          1.752
         ],
         "yaxis": "y"
        },
        {
         "alignmentgroup": "True",
         "hovertemplate": "Station.City=Richmond<br>Date.Month=%{x}<br>Data.Precipitation=%{y}<extra></extra>",
         "legendgroup": "Richmond",
         "marker": {
          "color": "#636efa",
          "pattern": {
           "shape": ""
          }
         },
         "name": "Richmond",
         "offsetgroup": "Richmond",
         "orientation": "v",
         "showlegend": true,
         "textposition": "auto",
         "type": "bar",
         "x": [
          5
         ],
         "xaxis": "x",
         "y": [
          1.8719999999999999
         ],
         "yaxis": "y"
        },
        {
         "alignmentgroup": "True",
         "hovertemplate": "Station.City=Savannah<br>Date.Month=%{x}<br>Data.Precipitation=%{y}<extra></extra>",
         "legendgroup": "Savannah",
         "marker": {
          "color": "#EF553B",
          "pattern": {
           "shape": ""
          }
         },
         "name": "Savannah",
         "offsetgroup": "Savannah",
         "orientation": "v",
         "showlegend": true,
         "textposition": "auto",
         "type": "bar",
         "x": [
          5,
          10
         ],
         "xaxis": "x",
         "y": [
          1.798,
          2.322
         ],
         "yaxis": "y"
        },
        {
         "alignmentgroup": "True",
         "hovertemplate": "Station.City=Topeka<br>Date.Month=%{x}<br>Data.Precipitation=%{y}<extra></extra>",
         "legendgroup": "Topeka",
         "marker": {
          "color": "#00cc96",
          "pattern": {
           "shape": ""
          }
         },
         "name": "Topeka",
         "offsetgroup": "Topeka",
         "orientation": "v",
         "showlegend": true,
         "textposition": "auto",
         "type": "bar",
         "x": [
          5
         ],
         "xaxis": "x",
         "y": [
          1.764
         ],
         "yaxis": "y"
        },
        {
         "alignmentgroup": "True",
         "hovertemplate": "Station.City=Greensboro<br>Date.Month=%{x}<br>Data.Precipitation=%{y}<extra></extra>",
         "legendgroup": "Greensboro",
         "marker": {
          "color": "#ab63fa",
          "pattern": {
           "shape": ""
          }
         },
         "name": "Greensboro",
         "offsetgroup": "Greensboro",
         "orientation": "v",
         "showlegend": true,
         "textposition": "auto",
         "type": "bar",
         "x": [
          5
         ],
         "xaxis": "x",
         "y": [
          1.734
         ],
         "yaxis": "y"
        },
        {
         "alignmentgroup": "True",
         "hovertemplate": "Station.City=Tampa<br>Date.Month=%{x}<br>Data.Precipitation=%{y}<extra></extra>",
         "legendgroup": "Tampa",
         "marker": {
          "color": "#FFA15A",
          "pattern": {
           "shape": ""
          }
         },
         "name": "Tampa",
         "offsetgroup": "Tampa",
         "orientation": "v",
         "showlegend": true,
         "textposition": "auto",
         "type": "bar",
         "x": [
          6
         ],
         "xaxis": "x",
         "y": [
          2.81
         ],
         "yaxis": "y"
        },
        {
         "alignmentgroup": "True",
         "hovertemplate": "Station.City=Waterloo<br>Date.Month=%{x}<br>Data.Precipitation=%{y}<extra></extra>",
         "legendgroup": "Waterloo",
         "marker": {
          "color": "#19d3f3",
          "pattern": {
           "shape": ""
          }
         },
         "name": "Waterloo",
         "offsetgroup": "Waterloo",
         "orientation": "v",
         "showlegend": true,
         "textposition": "auto",
         "type": "bar",
         "x": [
          6
         ],
         "xaxis": "x",
         "y": [
          2.13
         ],
         "yaxis": "y"
        },
        {
         "alignmentgroup": "True",
         "hovertemplate": "Station.City=Gainesville<br>Date.Month=%{x}<br>Data.Precipitation=%{y}<extra></extra>",
         "legendgroup": "Gainesville",
         "marker": {
          "color": "#FF6692",
          "pattern": {
           "shape": ""
          }
         },
         "name": "Gainesville",
         "offsetgroup": "Gainesville",
         "orientation": "v",
         "showlegend": true,
         "textposition": "auto",
         "type": "bar",
         "x": [
          6
         ],
         "xaxis": "x",
         "y": [
          2.015
         ],
         "yaxis": "y"
        },
        {
         "alignmentgroup": "True",
         "hovertemplate": "Station.City=Cedar Rapids<br>Date.Month=%{x}<br>Data.Precipitation=%{y}<extra></extra>",
         "legendgroup": "Cedar Rapids",
         "marker": {
          "color": "#B6E880",
          "pattern": {
           "shape": ""
          }
         },
         "name": "Cedar Rapids",
         "offsetgroup": "Cedar Rapids",
         "orientation": "v",
         "showlegend": true,
         "textposition": "auto",
         "type": "bar",
         "x": [
          6
         ],
         "xaxis": "x",
         "y": [
          1.93
         ],
         "yaxis": "y"
        },
        {
         "alignmentgroup": "True",
         "hovertemplate": "Station.City=Clarksville<br>Date.Month=%{x}<br>Data.Precipitation=%{y}<extra></extra>",
         "legendgroup": "Clarksville",
         "marker": {
          "color": "#FF97FF",
          "pattern": {
           "shape": ""
          }
         },
         "name": "Clarksville",
         "offsetgroup": "Clarksville",
         "orientation": "v",
         "showlegend": true,
         "textposition": "auto",
         "type": "bar",
         "x": [
          7
         ],
         "xaxis": "x",
         "y": [
          2.396
         ],
         "yaxis": "y"
        },
        {
         "alignmentgroup": "True",
         "hovertemplate": "Station.City=Wichita<br>Date.Month=%{x}<br>Data.Precipitation=%{y}<extra></extra>",
         "legendgroup": "Wichita",
         "marker": {
          "color": "#FECB52",
          "pattern": {
           "shape": ""
          }
         },
         "name": "Wichita",
         "offsetgroup": "Wichita",
         "orientation": "v",
         "showlegend": true,
         "textposition": "auto",
         "type": "bar",
         "x": [
          7,
          9
         ],
         "xaxis": "x",
         "y": [
          1.934,
          2.825
         ],
         "yaxis": "y"
        },
        {
         "alignmentgroup": "True",
         "hovertemplate": "Station.City=Atlantic City<br>Date.Month=%{x}<br>Data.Precipitation=%{y}<extra></extra>",
         "legendgroup": "Atlantic City",
         "marker": {
          "color": "#636efa",
          "pattern": {
           "shape": ""
          }
         },
         "name": "Atlantic City",
         "offsetgroup": "Atlantic City",
         "orientation": "v",
         "showlegend": true,
         "textposition": "auto",
         "type": "bar",
         "x": [
          7
         ],
         "xaxis": "x",
         "y": [
          1.766
         ],
         "yaxis": "y"
        },
        {
         "alignmentgroup": "True",
         "hovertemplate": "Station.City=St Joseph<br>Date.Month=%{x}<br>Data.Precipitation=%{y}<extra></extra>",
         "legendgroup": "St Joseph",
         "marker": {
          "color": "#EF553B",
          "pattern": {
           "shape": ""
          }
         },
         "name": "St Joseph",
         "offsetgroup": "St Joseph",
         "orientation": "v",
         "showlegend": true,
         "textposition": "auto",
         "type": "bar",
         "x": [
          7
         ],
         "xaxis": "x",
         "y": [
          1.7079999999999997
         ],
         "yaxis": "y"
        },
        {
         "alignmentgroup": "True",
         "hovertemplate": "Station.City=Hickory<br>Date.Month=%{x}<br>Data.Precipitation=%{y}<extra></extra>",
         "legendgroup": "Hickory",
         "marker": {
          "color": "#00cc96",
          "pattern": {
           "shape": ""
          }
         },
         "name": "Hickory",
         "offsetgroup": "Hickory",
         "orientation": "v",
         "showlegend": true,
         "textposition": "auto",
         "type": "bar",
         "x": [
          7
         ],
         "xaxis": "x",
         "y": [
          1.688
         ],
         "yaxis": "y"
        },
        {
         "alignmentgroup": "True",
         "hovertemplate": "Station.City=Springfield<br>Date.Month=%{x}<br>Data.Precipitation=%{y}<extra></extra>",
         "legendgroup": "Springfield",
         "marker": {
          "color": "#ab63fa",
          "pattern": {
           "shape": ""
          }
         },
         "name": "Springfield",
         "offsetgroup": "Springfield",
         "orientation": "v",
         "showlegend": true,
         "textposition": "auto",
         "type": "bar",
         "x": [
          7
         ],
         "xaxis": "x",
         "y": [
          1.684
         ],
         "yaxis": "y"
        },
        {
         "alignmentgroup": "True",
         "hovertemplate": "Station.City=St Louis<br>Date.Month=%{x}<br>Data.Precipitation=%{y}<extra></extra>",
         "legendgroup": "St Louis",
         "marker": {
          "color": "#FFA15A",
          "pattern": {
           "shape": ""
          }
         },
         "name": "St Louis",
         "offsetgroup": "St Louis",
         "orientation": "v",
         "showlegend": true,
         "textposition": "auto",
         "type": "bar",
         "x": [
          7
         ],
         "xaxis": "x",
         "y": [
          1.674
         ],
         "yaxis": "y"
        },
        {
         "alignmentgroup": "True",
         "hovertemplate": "Station.City=South Bend<br>Date.Month=%{x}<br>Data.Precipitation=%{y}<extra></extra>",
         "legendgroup": "South Bend",
         "marker": {
          "color": "#19d3f3",
          "pattern": {
           "shape": ""
          }
         },
         "name": "South Bend",
         "offsetgroup": "South Bend",
         "orientation": "v",
         "showlegend": true,
         "textposition": "auto",
         "type": "bar",
         "x": [
          8
         ],
         "xaxis": "x",
         "y": [
          3.1125
         ],
         "yaxis": "y"
        },
        {
         "alignmentgroup": "True",
         "hovertemplate": "Station.City=Pensacola<br>Date.Month=%{x}<br>Data.Precipitation=%{y}<extra></extra>",
         "legendgroup": "Pensacola",
         "marker": {
          "color": "#FF6692",
          "pattern": {
           "shape": ""
          }
         },
         "name": "Pensacola",
         "offsetgroup": "Pensacola",
         "orientation": "v",
         "showlegend": true,
         "textposition": "auto",
         "type": "bar",
         "x": [
          8,
          12
         ],
         "xaxis": "x",
         "y": [
          3.0100000000000002,
          2.285
         ],
         "yaxis": "y"
        },
        {
         "alignmentgroup": "True",
         "hovertemplate": "Station.City=Gulfport<br>Date.Month=%{x}<br>Data.Precipitation=%{y}<extra></extra>",
         "legendgroup": "Gulfport",
         "marker": {
          "color": "#B6E880",
          "pattern": {
           "shape": ""
          }
         },
         "name": "Gulfport",
         "offsetgroup": "Gulfport",
         "orientation": "v",
         "showlegend": true,
         "textposition": "auto",
         "type": "bar",
         "x": [
          8
         ],
         "xaxis": "x",
         "y": [
          2.8249999999999997
         ],
         "yaxis": "y"
        },
        {
         "alignmentgroup": "True",
         "hovertemplate": "Station.City=Miami<br>Date.Month=%{x}<br>Data.Precipitation=%{y}<extra></extra>",
         "legendgroup": "Miami",
         "marker": {
          "color": "#FF97FF",
          "pattern": {
           "shape": ""
          }
         },
         "name": "Miami",
         "offsetgroup": "Miami",
         "orientation": "v",
         "showlegend": true,
         "textposition": "auto",
         "type": "bar",
         "x": [
          8,
          10
         ],
         "xaxis": "x",
         "y": [
          2.7800000000000002,
          1.9240000000000002
         ],
         "yaxis": "y"
        },
        {
         "alignmentgroup": "True",
         "hovertemplate": "Station.City=Sitka<br>Date.Month=%{x}<br>Data.Precipitation=%{y}<extra></extra>",
         "legendgroup": "Sitka",
         "marker": {
          "color": "#FECB52",
          "pattern": {
           "shape": ""
          }
         },
         "name": "Sitka",
         "offsetgroup": "Sitka",
         "orientation": "v",
         "showlegend": true,
         "textposition": "auto",
         "type": "bar",
         "x": [
          9,
          12
         ],
         "xaxis": "x",
         "y": [
          3.205,
          1.9775
         ],
         "yaxis": "y"
        },
        {
         "alignmentgroup": "True",
         "hovertemplate": "Station.City=Juneau<br>Date.Month=%{x}<br>Data.Precipitation=%{y}<extra></extra>",
         "legendgroup": "Juneau",
         "marker": {
          "color": "#636efa",
          "pattern": {
           "shape": ""
          }
         },
         "name": "Juneau",
         "offsetgroup": "Juneau",
         "orientation": "v",
         "showlegend": true,
         "textposition": "auto",
         "type": "bar",
         "x": [
          9
         ],
         "xaxis": "x",
         "y": [
          2.7775000000000003
         ],
         "yaxis": "y"
        },
        {
         "alignmentgroup": "True",
         "hovertemplate": "Station.City=La Crosse<br>Date.Month=%{x}<br>Data.Precipitation=%{y}<extra></extra>",
         "legendgroup": "La Crosse",
         "marker": {
          "color": "#EF553B",
          "pattern": {
           "shape": ""
          }
         },
         "name": "La Crosse",
         "offsetgroup": "La Crosse",
         "orientation": "v",
         "showlegend": true,
         "textposition": "auto",
         "type": "bar",
         "x": [
          9
         ],
         "xaxis": "x",
         "y": [
          2.58
         ],
         "yaxis": "y"
        },
        {
         "alignmentgroup": "True",
         "hovertemplate": "Station.City=Wichita Falls<br>Date.Month=%{x}<br>Data.Precipitation=%{y}<extra></extra>",
         "legendgroup": "Wichita Falls",
         "marker": {
          "color": "#00cc96",
          "pattern": {
           "shape": ""
          }
         },
         "name": "Wichita Falls",
         "offsetgroup": "Wichita Falls",
         "orientation": "v",
         "showlegend": true,
         "textposition": "auto",
         "type": "bar",
         "x": [
          9
         ],
         "xaxis": "x",
         "y": [
          2.455
         ],
         "yaxis": "y"
        },
        {
         "alignmentgroup": "True",
         "hovertemplate": "Station.City=Olympia<br>Date.Month=%{x}<br>Data.Precipitation=%{y}<extra></extra>",
         "legendgroup": "Olympia",
         "marker": {
          "color": "#ab63fa",
          "pattern": {
           "shape": ""
          }
         },
         "name": "Olympia",
         "offsetgroup": "Olympia",
         "orientation": "v",
         "showlegend": true,
         "textposition": "auto",
         "type": "bar",
         "x": [
          10,
          11
         ],
         "xaxis": "x",
         "y": [
          2.262,
          2.2424999999999997
         ],
         "yaxis": "y"
        },
        {
         "alignmentgroup": "True",
         "hovertemplate": "Station.City=Salem<br>Date.Month=%{x}<br>Data.Precipitation=%{y}<extra></extra>",
         "legendgroup": "Salem",
         "marker": {
          "color": "#FFA15A",
          "pattern": {
           "shape": ""
          }
         },
         "name": "Salem",
         "offsetgroup": "Salem",
         "orientation": "v",
         "showlegend": true,
         "textposition": "auto",
         "type": "bar",
         "x": [
          10,
          11
         ],
         "xaxis": "x",
         "y": [
          2.17,
          1.6800000000000002
         ],
         "yaxis": "y"
        },
        {
         "alignmentgroup": "True",
         "hovertemplate": "Station.City=Eugene<br>Date.Month=%{x}<br>Data.Precipitation=%{y}<extra></extra>",
         "legendgroup": "Eugene",
         "marker": {
          "color": "#19d3f3",
          "pattern": {
           "shape": ""
          }
         },
         "name": "Eugene",
         "offsetgroup": "Eugene",
         "orientation": "v",
         "showlegend": true,
         "textposition": "auto",
         "type": "bar",
         "x": [
          10
         ],
         "xaxis": "x",
         "y": [
          1.9740000000000002
         ],
         "yaxis": "y"
        },
        {
         "alignmentgroup": "True",
         "hovertemplate": "Station.City=Jacksonville<br>Date.Month=%{x}<br>Data.Precipitation=%{y}<extra></extra>",
         "legendgroup": "Jacksonville",
         "marker": {
          "color": "#FF6692",
          "pattern": {
           "shape": ""
          }
         },
         "name": "Jacksonville",
         "offsetgroup": "Jacksonville",
         "orientation": "v",
         "showlegend": true,
         "textposition": "auto",
         "type": "bar",
         "x": [
          10
         ],
         "xaxis": "x",
         "y": [
          1.9020000000000004
         ],
         "yaxis": "y"
        },
        {
         "alignmentgroup": "True",
         "hovertemplate": "Station.City=Galveston<br>Date.Month=%{x}<br>Data.Precipitation=%{y}<extra></extra>",
         "legendgroup": "Galveston",
         "marker": {
          "color": "#B6E880",
          "pattern": {
           "shape": ""
          }
         },
         "name": "Galveston",
         "offsetgroup": "Galveston",
         "orientation": "v",
         "showlegend": true,
         "textposition": "auto",
         "type": "bar",
         "x": [
          12
         ],
         "xaxis": "x",
         "y": [
          2.5124999999999997
         ],
         "yaxis": "y"
        }
       ],
       "layout": {
        "barmode": "relative",
        "legend": {
         "title": {
          "text": "Station.City"
         },
         "tracegroupgap": 0
        },
        "margin": {
         "b": 20,
         "l": 20,
         "r": 20,
         "t": 20
        },
        "paper_bgcolor": "lightgreen",
        "template": {
         "data": {
          "bar": [
           {
            "error_x": {
             "color": "#2a3f5f"
            },
            "error_y": {
             "color": "#2a3f5f"
            },
            "marker": {
             "line": {
              "color": "#E5ECF6",
              "width": 0.5
             },
             "pattern": {
              "fillmode": "overlay",
              "size": 10,
              "solidity": 0.2
             }
            },
            "type": "bar"
           }
          ],
          "barpolar": [
           {
            "marker": {
             "line": {
              "color": "#E5ECF6",
              "width": 0.5
             },
             "pattern": {
              "fillmode": "overlay",
              "size": 10,
              "solidity": 0.2
             }
            },
            "type": "barpolar"
           }
          ],
          "carpet": [
           {
            "aaxis": {
             "endlinecolor": "#2a3f5f",
             "gridcolor": "white",
             "linecolor": "white",
             "minorgridcolor": "white",
             "startlinecolor": "#2a3f5f"
            },
            "baxis": {
             "endlinecolor": "#2a3f5f",
             "gridcolor": "white",
             "linecolor": "white",
             "minorgridcolor": "white",
             "startlinecolor": "#2a3f5f"
            },
            "type": "carpet"
           }
          ],
          "choropleth": [
           {
            "colorbar": {
             "outlinewidth": 0,
             "ticks": ""
            },
            "type": "choropleth"
           }
          ],
          "contour": [
           {
            "colorbar": {
             "outlinewidth": 0,
             "ticks": ""
            },
            "colorscale": [
             [
              0,
              "#0d0887"
             ],
             [
              0.1111111111111111,
              "#46039f"
             ],
             [
              0.2222222222222222,
              "#7201a8"
             ],
             [
              0.3333333333333333,
              "#9c179e"
             ],
             [
              0.4444444444444444,
              "#bd3786"
             ],
             [
              0.5555555555555556,
              "#d8576b"
             ],
             [
              0.6666666666666666,
              "#ed7953"
             ],
             [
              0.7777777777777778,
              "#fb9f3a"
             ],
             [
              0.8888888888888888,
              "#fdca26"
             ],
             [
              1,
              "#f0f921"
             ]
            ],
            "type": "contour"
           }
          ],
          "contourcarpet": [
           {
            "colorbar": {
             "outlinewidth": 0,
             "ticks": ""
            },
            "type": "contourcarpet"
           }
          ],
          "heatmap": [
           {
            "colorbar": {
             "outlinewidth": 0,
             "ticks": ""
            },
            "colorscale": [
             [
              0,
              "#0d0887"
             ],
             [
              0.1111111111111111,
              "#46039f"
             ],
             [
              0.2222222222222222,
              "#7201a8"
             ],
             [
              0.3333333333333333,
              "#9c179e"
             ],
             [
              0.4444444444444444,
              "#bd3786"
             ],
             [
              0.5555555555555556,
              "#d8576b"
             ],
             [
              0.6666666666666666,
              "#ed7953"
             ],
             [
              0.7777777777777778,
              "#fb9f3a"
             ],
             [
              0.8888888888888888,
              "#fdca26"
             ],
             [
              1,
              "#f0f921"
             ]
            ],
            "type": "heatmap"
           }
          ],
          "heatmapgl": [
           {
            "colorbar": {
             "outlinewidth": 0,
             "ticks": ""
            },
            "colorscale": [
             [
              0,
              "#0d0887"
             ],
             [
              0.1111111111111111,
              "#46039f"
             ],
             [
              0.2222222222222222,
              "#7201a8"
             ],
             [
              0.3333333333333333,
              "#9c179e"
             ],
             [
              0.4444444444444444,
              "#bd3786"
             ],
             [
              0.5555555555555556,
              "#d8576b"
             ],
             [
              0.6666666666666666,
              "#ed7953"
             ],
             [
              0.7777777777777778,
              "#fb9f3a"
             ],
             [
              0.8888888888888888,
              "#fdca26"
             ],
             [
              1,
              "#f0f921"
             ]
            ],
            "type": "heatmapgl"
           }
          ],
          "histogram": [
           {
            "marker": {
             "pattern": {
              "fillmode": "overlay",
              "size": 10,
              "solidity": 0.2
             }
            },
            "type": "histogram"
           }
          ],
          "histogram2d": [
           {
            "colorbar": {
             "outlinewidth": 0,
             "ticks": ""
            },
            "colorscale": [
             [
              0,
              "#0d0887"
             ],
             [
              0.1111111111111111,
              "#46039f"
             ],
             [
              0.2222222222222222,
              "#7201a8"
             ],
             [
              0.3333333333333333,
              "#9c179e"
             ],
             [
              0.4444444444444444,
              "#bd3786"
             ],
             [
              0.5555555555555556,
              "#d8576b"
             ],
             [
              0.6666666666666666,
              "#ed7953"
             ],
             [
              0.7777777777777778,
              "#fb9f3a"
             ],
             [
              0.8888888888888888,
              "#fdca26"
             ],
             [
              1,
              "#f0f921"
             ]
            ],
            "type": "histogram2d"
           }
          ],
          "histogram2dcontour": [
           {
            "colorbar": {
             "outlinewidth": 0,
             "ticks": ""
            },
            "colorscale": [
             [
              0,
              "#0d0887"
             ],
             [
              0.1111111111111111,
              "#46039f"
             ],
             [
              0.2222222222222222,
              "#7201a8"
             ],
             [
              0.3333333333333333,
              "#9c179e"
             ],
             [
              0.4444444444444444,
              "#bd3786"
             ],
             [
              0.5555555555555556,
              "#d8576b"
             ],
             [
              0.6666666666666666,
              "#ed7953"
             ],
             [
              0.7777777777777778,
              "#fb9f3a"
             ],
             [
              0.8888888888888888,
              "#fdca26"
             ],
             [
              1,
              "#f0f921"
             ]
            ],
            "type": "histogram2dcontour"
           }
          ],
          "mesh3d": [
           {
            "colorbar": {
             "outlinewidth": 0,
             "ticks": ""
            },
            "type": "mesh3d"
           }
          ],
          "parcoords": [
           {
            "line": {
             "colorbar": {
              "outlinewidth": 0,
              "ticks": ""
             }
            },
            "type": "parcoords"
           }
          ],
          "pie": [
           {
            "automargin": true,
            "type": "pie"
           }
          ],
          "scatter": [
           {
            "fillpattern": {
             "fillmode": "overlay",
             "size": 10,
             "solidity": 0.2
            },
            "type": "scatter"
           }
          ],
          "scatter3d": [
           {
            "line": {
             "colorbar": {
              "outlinewidth": 0,
              "ticks": ""
             }
            },
            "marker": {
             "colorbar": {
              "outlinewidth": 0,
              "ticks": ""
             }
            },
            "type": "scatter3d"
           }
          ],
          "scattercarpet": [
           {
            "marker": {
             "colorbar": {
              "outlinewidth": 0,
              "ticks": ""
             }
            },
            "type": "scattercarpet"
           }
          ],
          "scattergeo": [
           {
            "marker": {
             "colorbar": {
              "outlinewidth": 0,
              "ticks": ""
             }
            },
            "type": "scattergeo"
           }
          ],
          "scattergl": [
           {
            "marker": {
             "colorbar": {
              "outlinewidth": 0,
              "ticks": ""
             }
            },
            "type": "scattergl"
           }
          ],
          "scattermapbox": [
           {
            "marker": {
             "colorbar": {
              "outlinewidth": 0,
              "ticks": ""
             }
            },
            "type": "scattermapbox"
           }
          ],
          "scatterpolar": [
           {
            "marker": {
             "colorbar": {
              "outlinewidth": 0,
              "ticks": ""
             }
            },
            "type": "scatterpolar"
           }
          ],
          "scatterpolargl": [
           {
            "marker": {
             "colorbar": {
              "outlinewidth": 0,
              "ticks": ""
             }
            },
            "type": "scatterpolargl"
           }
          ],
          "scatterternary": [
           {
            "marker": {
             "colorbar": {
              "outlinewidth": 0,
              "ticks": ""
             }
            },
            "type": "scatterternary"
           }
          ],
          "surface": [
           {
            "colorbar": {
             "outlinewidth": 0,
             "ticks": ""
            },
            "colorscale": [
             [
              0,
              "#0d0887"
             ],
             [
              0.1111111111111111,
              "#46039f"
             ],
             [
              0.2222222222222222,
              "#7201a8"
             ],
             [
              0.3333333333333333,
              "#9c179e"
             ],
             [
              0.4444444444444444,
              "#bd3786"
             ],
             [
              0.5555555555555556,
              "#d8576b"
             ],
             [
              0.6666666666666666,
              "#ed7953"
             ],
             [
              0.7777777777777778,
              "#fb9f3a"
             ],
             [
              0.8888888888888888,
              "#fdca26"
             ],
             [
              1,
              "#f0f921"
             ]
            ],
            "type": "surface"
           }
          ],
          "table": [
           {
            "cells": {
             "fill": {
              "color": "#EBF0F8"
             },
             "line": {
              "color": "white"
             }
            },
            "header": {
             "fill": {
              "color": "#C8D4E3"
             },
             "line": {
              "color": "white"
             }
            },
            "type": "table"
           }
          ]
         },
         "layout": {
          "annotationdefaults": {
           "arrowcolor": "#2a3f5f",
           "arrowhead": 0,
           "arrowwidth": 1
          },
          "autotypenumbers": "strict",
          "coloraxis": {
           "colorbar": {
            "outlinewidth": 0,
            "ticks": ""
           }
          },
          "colorscale": {
           "diverging": [
            [
             0,
             "#8e0152"
            ],
            [
             0.1,
             "#c51b7d"
            ],
            [
             0.2,
             "#de77ae"
            ],
            [
             0.3,
             "#f1b6da"
            ],
            [
             0.4,
             "#fde0ef"
            ],
            [
             0.5,
             "#f7f7f7"
            ],
            [
             0.6,
             "#e6f5d0"
            ],
            [
             0.7,
             "#b8e186"
            ],
            [
             0.8,
             "#7fbc41"
            ],
            [
             0.9,
             "#4d9221"
            ],
            [
             1,
             "#276419"
            ]
           ],
           "sequential": [
            [
             0,
             "#0d0887"
            ],
            [
             0.1111111111111111,
             "#46039f"
            ],
            [
             0.2222222222222222,
             "#7201a8"
            ],
            [
             0.3333333333333333,
             "#9c179e"
            ],
            [
             0.4444444444444444,
             "#bd3786"
            ],
            [
             0.5555555555555556,
             "#d8576b"
            ],
            [
             0.6666666666666666,
             "#ed7953"
            ],
            [
             0.7777777777777778,
             "#fb9f3a"
            ],
            [
             0.8888888888888888,
             "#fdca26"
            ],
            [
             1,
             "#f0f921"
            ]
           ],
           "sequentialminus": [
            [
             0,
             "#0d0887"
            ],
            [
             0.1111111111111111,
             "#46039f"
            ],
            [
             0.2222222222222222,
             "#7201a8"
            ],
            [
             0.3333333333333333,
             "#9c179e"
            ],
            [
             0.4444444444444444,
             "#bd3786"
            ],
            [
             0.5555555555555556,
             "#d8576b"
            ],
            [
             0.6666666666666666,
             "#ed7953"
            ],
            [
             0.7777777777777778,
             "#fb9f3a"
            ],
            [
             0.8888888888888888,
             "#fdca26"
            ],
            [
             1,
             "#f0f921"
            ]
           ]
          },
          "colorway": [
           "#636efa",
           "#EF553B",
           "#00cc96",
           "#ab63fa",
           "#FFA15A",
           "#19d3f3",
           "#FF6692",
           "#B6E880",
           "#FF97FF",
           "#FECB52"
          ],
          "font": {
           "color": "#2a3f5f"
          },
          "geo": {
           "bgcolor": "white",
           "lakecolor": "white",
           "landcolor": "#E5ECF6",
           "showlakes": true,
           "showland": true,
           "subunitcolor": "white"
          },
          "hoverlabel": {
           "align": "left"
          },
          "hovermode": "closest",
          "mapbox": {
           "style": "light"
          },
          "paper_bgcolor": "white",
          "plot_bgcolor": "#E5ECF6",
          "polar": {
           "angularaxis": {
            "gridcolor": "white",
            "linecolor": "white",
            "ticks": ""
           },
           "bgcolor": "#E5ECF6",
           "radialaxis": {
            "gridcolor": "white",
            "linecolor": "white",
            "ticks": ""
           }
          },
          "scene": {
           "xaxis": {
            "backgroundcolor": "#E5ECF6",
            "gridcolor": "white",
            "gridwidth": 2,
            "linecolor": "white",
            "showbackground": true,
            "ticks": "",
            "zerolinecolor": "white"
           },
           "yaxis": {
            "backgroundcolor": "#E5ECF6",
            "gridcolor": "white",
            "gridwidth": 2,
            "linecolor": "white",
            "showbackground": true,
            "ticks": "",
            "zerolinecolor": "white"
           },
           "zaxis": {
            "backgroundcolor": "#E5ECF6",
            "gridcolor": "white",
            "gridwidth": 2,
            "linecolor": "white",
            "showbackground": true,
            "ticks": "",
            "zerolinecolor": "white"
           }
          },
          "shapedefaults": {
           "line": {
            "color": "#2a3f5f"
           }
          },
          "ternary": {
           "aaxis": {
            "gridcolor": "white",
            "linecolor": "white",
            "ticks": ""
           },
           "baxis": {
            "gridcolor": "white",
            "linecolor": "white",
            "ticks": ""
           },
           "bgcolor": "#E5ECF6",
           "caxis": {
            "gridcolor": "white",
            "linecolor": "white",
            "ticks": ""
           }
          },
          "title": {
           "x": 0.05
          },
          "xaxis": {
           "automargin": true,
           "gridcolor": "white",
           "linecolor": "white",
           "ticks": "",
           "title": {
            "standoff": 15
           },
           "zerolinecolor": "white",
           "zerolinewidth": 2
          },
          "yaxis": {
           "automargin": true,
           "gridcolor": "white",
           "linecolor": "white",
           "ticks": "",
           "title": {
            "standoff": 15
           },
           "zerolinecolor": "white",
           "zerolinewidth": 2
          }
         }
        },
        "xaxis": {
         "anchor": "y",
         "color": "crimson",
         "domain": [
          0,
          1
         ],
         "title": {
          "text": "Months"
         }
        },
        "yaxis": {
         "anchor": "x",
         "color": "crimson",
         "domain": [
          0,
          1
         ],
         "dtick": 0.5,
         "nticks": 12,
         "tick0": 0.25,
         "ticklabelposition": "outside",
         "title": {
          "standoff": 15,
          "text": "Average Precipitation"
         }
        }
       }
      },
      "text/html": [
       "<div>                            <div id=\"a903db4f-61ad-4862-9ab7-dc404a3e6aec\" class=\"plotly-graph-div\" style=\"height:525px; width:100%;\"></div>            <script type=\"text/javascript\">                require([\"plotly\"], function(Plotly) {                    window.PLOTLYENV=window.PLOTLYENV || {};                                    if (document.getElementById(\"a903db4f-61ad-4862-9ab7-dc404a3e6aec\")) {                    Plotly.newPlot(                        \"a903db4f-61ad-4862-9ab7-dc404a3e6aec\",                        [{\"alignmentgroup\":\"True\",\"hovertemplate\":\"Station.City=Quillayute<br>Date.Month=%{x}<br>Data.Precipitation=%{y}<extra></extra>\",\"legendgroup\":\"Quillayute\",\"marker\":{\"color\":\"#636efa\",\"pattern\":{\"shape\":\"\"}},\"name\":\"Quillayute\",\"offsetgroup\":\"Quillayute\",\"orientation\":\"v\",\"showlegend\":true,\"textposition\":\"auto\",\"x\":[1,2,3,10,11,12],\"xaxis\":\"x\",\"y\":[3.23,3.8875,3.9575,4.1579999999999995,6.055000000000001,2.3674999999999997],\"yaxis\":\"y\",\"type\":\"bar\"},{\"alignmentgroup\":\"True\",\"hovertemplate\":\"Station.City=Ketchikan<br>Date.Month=%{x}<br>Data.Precipitation=%{y}<extra></extra>\",\"legendgroup\":\"Ketchikan\",\"marker\":{\"color\":\"#EF553B\",\"pattern\":{\"shape\":\"\"}},\"name\":\"Ketchikan\",\"offsetgroup\":\"Ketchikan\",\"orientation\":\"v\",\"showlegend\":true,\"textposition\":\"auto\",\"x\":[1,2,3,4,9,11,12],\"xaxis\":\"x\",\"y\":[3.0033333333333334,6.217499999999999,2.6175,2.9524999999999997,3.59,3.7475,1.8925],\"yaxis\":\"y\",\"type\":\"bar\"},{\"alignmentgroup\":\"True\",\"hovertemplate\":\"Station.City=Yakutat<br>Date.Month=%{x}<br>Data.Precipitation=%{y}<extra></extra>\",\"legendgroup\":\"Yakutat\",\"marker\":{\"color\":\"#00cc96\",\"pattern\":{\"shape\":\"\"}},\"name\":\"Yakutat\",\"offsetgroup\":\"Yakutat\",\"orientation\":\"v\",\"showlegend\":true,\"textposition\":\"auto\",\"x\":[1,2,4,7,8,9,11,12],\"xaxis\":\"x\",\"y\":[2.6366666666666667,2.7175000000000002,1.8275000000000001,1.7100000000000002,3.3274999999999997,3.9875,2.96,1.7225],\"yaxis\":\"y\",\"type\":\"bar\"},{\"alignmentgroup\":\"True\",\"hovertemplate\":\"Station.City=Astoria<br>Date.Month=%{x}<br>Data.Precipitation=%{y}<extra></extra>\",\"legendgroup\":\"Astoria\",\"marker\":{\"color\":\"#ab63fa\",\"pattern\":{\"shape\":\"\"}},\"name\":\"Astoria\",\"offsetgroup\":\"Astoria\",\"orientation\":\"v\",\"showlegend\":true,\"textposition\":\"auto\",\"x\":[1,2,3,10,11,12],\"xaxis\":\"x\",\"y\":[2.555,1.945,3.0175,3.144,4.157500000000001,2.1925],\"yaxis\":\"y\",\"type\":\"bar\"},{\"alignmentgroup\":\"True\",\"hovertemplate\":\"Station.City=Evansville<br>Date.Month=%{x}<br>Data.Precipitation=%{y}<extra></extra>\",\"legendgroup\":\"Evansville\",\"marker\":{\"color\":\"#FFA15A\",\"pattern\":{\"shape\":\"\"}},\"name\":\"Evansville\",\"offsetgroup\":\"Evansville\",\"orientation\":\"v\",\"showlegend\":true,\"textposition\":\"auto\",\"x\":[1,7],\"xaxis\":\"x\",\"y\":[2.3833333333333333,1.8399999999999999],\"yaxis\":\"y\",\"type\":\"bar\"},{\"alignmentgroup\":\"True\",\"hovertemplate\":\"Station.City=Redding<br>Date.Month=%{x}<br>Data.Precipitation=%{y}<extra></extra>\",\"legendgroup\":\"Redding\",\"marker\":{\"color\":\"#19d3f3\",\"pattern\":{\"shape\":\"\"}},\"name\":\"Redding\",\"offsetgroup\":\"Redding\",\"orientation\":\"v\",\"showlegend\":true,\"textposition\":\"auto\",\"x\":[1,3],\"xaxis\":\"x\",\"y\":[2.1133333333333333,2.59],\"yaxis\":\"y\",\"type\":\"bar\"},{\"alignmentgroup\":\"True\",\"hovertemplate\":\"Station.City=Annette<br>Date.Month=%{x}<br>Data.Precipitation=%{y}<extra></extra>\",\"legendgroup\":\"Annette\",\"marker\":{\"color\":\"#FF6692\",\"pattern\":{\"shape\":\"\"}},\"name\":\"Annette\",\"offsetgroup\":\"Annette\",\"orientation\":\"v\",\"showlegend\":true,\"textposition\":\"auto\",\"x\":[1,2,4,9,11],\"xaxis\":\"x\",\"y\":[1.755,3.8674999999999997,2.025,2.5175,2.4475000000000002],\"yaxis\":\"y\",\"type\":\"bar\"},{\"alignmentgroup\":\"True\",\"hovertemplate\":\"Station.City=Kodiak<br>Date.Month=%{x}<br>Data.Precipitation=%{y}<extra></extra>\",\"legendgroup\":\"Kodiak\",\"marker\":{\"color\":\"#B6E880\",\"pattern\":{\"shape\":\"\"}},\"name\":\"Kodiak\",\"offsetgroup\":\"Kodiak\",\"orientation\":\"v\",\"showlegend\":true,\"textposition\":\"auto\",\"x\":[1,2,10,11],\"xaxis\":\"x\",\"y\":[1.74,3.2024999999999997,2.024,2.21],\"yaxis\":\"y\",\"type\":\"bar\"},{\"alignmentgroup\":\"True\",\"hovertemplate\":\"Station.City=West Palm Beach<br>Date.Month=%{x}<br>Data.Precipitation=%{y}<extra></extra>\",\"legendgroup\":\"West Palm Beach\",\"marker\":{\"color\":\"#FF97FF\",\"pattern\":{\"shape\":\"\"}},\"name\":\"West Palm Beach\",\"offsetgroup\":\"West Palm Beach\",\"orientation\":\"v\",\"showlegend\":true,\"textposition\":\"auto\",\"x\":[1],\"xaxis\":\"x\",\"y\":[1.655],\"yaxis\":\"y\",\"type\":\"bar\"},{\"alignmentgroup\":\"True\",\"hovertemplate\":\"Station.City=Vero Beach<br>Date.Month=%{x}<br>Data.Precipitation=%{y}<extra></extra>\",\"legendgroup\":\"Vero Beach\",\"marker\":{\"color\":\"#FECB52\",\"pattern\":{\"shape\":\"\"}},\"name\":\"Vero Beach\",\"offsetgroup\":\"Vero Beach\",\"orientation\":\"v\",\"showlegend\":true,\"textposition\":\"auto\",\"x\":[1,5],\"xaxis\":\"x\",\"y\":[1.6083333333333334,3.598],\"yaxis\":\"y\",\"type\":\"bar\"},{\"alignmentgroup\":\"True\",\"hovertemplate\":\"Station.City=Crossville<br>Date.Month=%{x}<br>Data.Precipitation=%{y}<extra></extra>\",\"legendgroup\":\"Crossville\",\"marker\":{\"color\":\"#636efa\",\"pattern\":{\"shape\":\"\"}},\"name\":\"Crossville\",\"offsetgroup\":\"Crossville\",\"orientation\":\"v\",\"showlegend\":true,\"textposition\":\"auto\",\"x\":[2],\"xaxis\":\"x\",\"y\":[2.235],\"yaxis\":\"y\",\"type\":\"bar\"},{\"alignmentgroup\":\"True\",\"hovertemplate\":\"Station.City=Cape Hatteras<br>Date.Month=%{x}<br>Data.Precipitation=%{y}<extra></extra>\",\"legendgroup\":\"Cape Hatteras\",\"marker\":{\"color\":\"#EF553B\",\"pattern\":{\"shape\":\"\"}},\"name\":\"Cape Hatteras\",\"offsetgroup\":\"Cape Hatteras\",\"orientation\":\"v\",\"showlegend\":true,\"textposition\":\"auto\",\"x\":[2,6],\"xaxis\":\"x\",\"y\":[2.06,2.545],\"yaxis\":\"y\",\"type\":\"bar\"},{\"alignmentgroup\":\"True\",\"hovertemplate\":\"Station.City=Cordova<br>Date.Month=%{x}<br>Data.Precipitation=%{y}<extra></extra>\",\"legendgroup\":\"Cordova\",\"marker\":{\"color\":\"#00cc96\",\"pattern\":{\"shape\":\"\"}},\"name\":\"Cordova\",\"offsetgroup\":\"Cordova\",\"orientation\":\"v\",\"showlegend\":true,\"textposition\":\"auto\",\"x\":[2,8,9],\"xaxis\":\"x\",\"y\":[1.9725,5.3025,3.2375],\"yaxis\":\"y\",\"type\":\"bar\"},{\"alignmentgroup\":\"True\",\"hovertemplate\":\"Station.City=Birmingham<br>Date.Month=%{x}<br>Data.Precipitation=%{y}<extra></extra>\",\"legendgroup\":\"Birmingham\",\"marker\":{\"color\":\"#ab63fa\",\"pattern\":{\"shape\":\"\"}},\"name\":\"Birmingham\",\"offsetgroup\":\"Birmingham\",\"orientation\":\"v\",\"showlegend\":true,\"textposition\":\"auto\",\"x\":[2],\"xaxis\":\"x\",\"y\":[1.865],\"yaxis\":\"y\",\"type\":\"bar\"},{\"alignmentgroup\":\"True\",\"hovertemplate\":\"Station.City=Greenville<br>Date.Month=%{x}<br>Data.Precipitation=%{y}<extra></extra>\",\"legendgroup\":\"Greenville\",\"marker\":{\"color\":\"#FFA15A\",\"pattern\":{\"shape\":\"\"}},\"name\":\"Greenville\",\"offsetgroup\":\"Greenville\",\"orientation\":\"v\",\"showlegend\":true,\"textposition\":\"auto\",\"x\":[3],\"xaxis\":\"x\",\"y\":[3.7249999999999996],\"yaxis\":\"y\",\"type\":\"bar\"},{\"alignmentgroup\":\"True\",\"hovertemplate\":\"Station.City=Shreveport<br>Date.Month=%{x}<br>Data.Precipitation=%{y}<extra></extra>\",\"legendgroup\":\"Shreveport\",\"marker\":{\"color\":\"#19d3f3\",\"pattern\":{\"shape\":\"\"}},\"name\":\"Shreveport\",\"offsetgroup\":\"Shreveport\",\"orientation\":\"v\",\"showlegend\":true,\"textposition\":\"auto\",\"x\":[3,4],\"xaxis\":\"x\",\"y\":[3.1149999999999998,2.3025],\"yaxis\":\"y\",\"type\":\"bar\"},{\"alignmentgroup\":\"True\",\"hovertemplate\":\"Station.City=Memphis<br>Date.Month=%{x}<br>Data.Precipitation=%{y}<extra></extra>\",\"legendgroup\":\"Memphis\",\"marker\":{\"color\":\"#FF6692\",\"pattern\":{\"shape\":\"\"}},\"name\":\"Memphis\",\"offsetgroup\":\"Memphis\",\"orientation\":\"v\",\"showlegend\":true,\"textposition\":\"auto\",\"x\":[3],\"xaxis\":\"x\",\"y\":[3.0025],\"yaxis\":\"y\",\"type\":\"bar\"},{\"alignmentgroup\":\"True\",\"hovertemplate\":\"Station.City=Hattiesburg<br>Date.Month=%{x}<br>Data.Precipitation=%{y}<extra></extra>\",\"legendgroup\":\"Hattiesburg\",\"marker\":{\"color\":\"#B6E880\",\"pattern\":{\"shape\":\"\"}},\"name\":\"Hattiesburg\",\"offsetgroup\":\"Hattiesburg\",\"orientation\":\"v\",\"showlegend\":true,\"textposition\":\"auto\",\"x\":[3],\"xaxis\":\"x\",\"y\":[2.77],\"yaxis\":\"y\",\"type\":\"bar\"},{\"alignmentgroup\":\"True\",\"hovertemplate\":\"Station.City=Mobile<br>Date.Month=%{x}<br>Data.Precipitation=%{y}<extra></extra>\",\"legendgroup\":\"Mobile\",\"marker\":{\"color\":\"#FF97FF\",\"pattern\":{\"shape\":\"\"}},\"name\":\"Mobile\",\"offsetgroup\":\"Mobile\",\"orientation\":\"v\",\"showlegend\":true,\"textposition\":\"auto\",\"x\":[3],\"xaxis\":\"x\",\"y\":[2.5300000000000002],\"yaxis\":\"y\",\"type\":\"bar\"},{\"alignmentgroup\":\"True\",\"hovertemplate\":\"Station.City=Baton Rouge<br>Date.Month=%{x}<br>Data.Precipitation=%{y}<extra></extra>\",\"legendgroup\":\"Baton Rouge\",\"marker\":{\"color\":\"#FECB52\",\"pattern\":{\"shape\":\"\"}},\"name\":\"Baton Rouge\",\"offsetgroup\":\"Baton Rouge\",\"orientation\":\"v\",\"showlegend\":true,\"textposition\":\"auto\",\"x\":[3,8],\"xaxis\":\"x\",\"y\":[2.4974999999999996,7.635],\"yaxis\":\"y\",\"type\":\"bar\"},{\"alignmentgroup\":\"True\",\"hovertemplate\":\"Station.City=San Juan<br>Date.Month=%{x}<br>Data.Precipitation=%{y}<extra></extra>\",\"legendgroup\":\"San Juan\",\"marker\":{\"color\":\"#636efa\",\"pattern\":{\"shape\":\"\"}},\"name\":\"San Juan\",\"offsetgroup\":\"San Juan\",\"orientation\":\"v\",\"showlegend\":true,\"textposition\":\"auto\",\"x\":[4,11],\"xaxis\":\"x\",\"y\":[2.2325,4.16],\"yaxis\":\"y\",\"type\":\"bar\"},{\"alignmentgroup\":\"True\",\"hovertemplate\":\"Station.City=Hilo<br>Date.Month=%{x}<br>Data.Precipitation=%{y}<extra></extra>\",\"legendgroup\":\"Hilo\",\"marker\":{\"color\":\"#EF553B\",\"pattern\":{\"shape\":\"\"}},\"name\":\"Hilo\",\"offsetgroup\":\"Hilo\",\"orientation\":\"v\",\"showlegend\":true,\"textposition\":\"auto\",\"x\":[4,6,8,9,10,11,12],\"xaxis\":\"x\",\"y\":[2.1075,2.6049999999999995,4.904999999999999,2.4400000000000004,3.75,1.9175,4.825],\"yaxis\":\"y\",\"type\":\"bar\"},{\"alignmentgroup\":\"True\",\"hovertemplate\":\"Station.City=Houston<br>Date.Month=%{x}<br>Data.Precipitation=%{y}<extra></extra>\",\"legendgroup\":\"Houston\",\"marker\":{\"color\":\"#00cc96\",\"pattern\":{\"shape\":\"\"}},\"name\":\"Houston\",\"offsetgroup\":\"Houston\",\"orientation\":\"v\",\"showlegend\":true,\"textposition\":\"auto\",\"x\":[4,6],\"xaxis\":\"x\",\"y\":[2.0325,2.055],\"yaxis\":\"y\",\"type\":\"bar\"},{\"alignmentgroup\":\"True\",\"hovertemplate\":\"Station.City=Macon<br>Date.Month=%{x}<br>Data.Precipitation=%{y}<extra></extra>\",\"legendgroup\":\"Macon\",\"marker\":{\"color\":\"#ab63fa\",\"pattern\":{\"shape\":\"\"}},\"name\":\"Macon\",\"offsetgroup\":\"Macon\",\"orientation\":\"v\",\"showlegend\":true,\"textposition\":\"auto\",\"x\":[4],\"xaxis\":\"x\",\"y\":[1.8375],\"yaxis\":\"y\",\"type\":\"bar\"},{\"alignmentgroup\":\"True\",\"hovertemplate\":\"Station.City=Beaumont/Port Arthur<br>Date.Month=%{x}<br>Data.Precipitation=%{y}<extra></extra>\",\"legendgroup\":\"Beaumont/Port Arthur\",\"marker\":{\"color\":\"#FFA15A\",\"pattern\":{\"shape\":\"\"}},\"name\":\"Beaumont/Port Arthur\",\"offsetgroup\":\"Beaumont/Port Arthur\",\"orientation\":\"v\",\"showlegend\":true,\"textposition\":\"auto\",\"x\":[4,5,6,12],\"xaxis\":\"x\",\"y\":[1.8325,2.058,1.8900000000000001,2.38],\"yaxis\":\"y\",\"type\":\"bar\"},{\"alignmentgroup\":\"True\",\"hovertemplate\":\"Station.City=New Orleans<br>Date.Month=%{x}<br>Data.Precipitation=%{y}<extra></extra>\",\"legendgroup\":\"New Orleans\",\"marker\":{\"color\":\"#19d3f3\",\"pattern\":{\"shape\":\"\"}},\"name\":\"New Orleans\",\"offsetgroup\":\"New Orleans\",\"orientation\":\"v\",\"showlegend\":true,\"textposition\":\"auto\",\"x\":[4,6,8],\"xaxis\":\"x\",\"y\":[1.815,2.16,2.9675],\"yaxis\":\"y\",\"type\":\"bar\"},{\"alignmentgroup\":\"True\",\"hovertemplate\":\"Station.City=Austin/Bergstrom<br>Date.Month=%{x}<br>Data.Precipitation=%{y}<extra></extra>\",\"legendgroup\":\"Austin/Bergstrom\",\"marker\":{\"color\":\"#FF6692\",\"pattern\":{\"shape\":\"\"}},\"name\":\"Austin/Bergstrom\",\"offsetgroup\":\"Austin/Bergstrom\",\"orientation\":\"v\",\"showlegend\":true,\"textposition\":\"auto\",\"x\":[5],\"xaxis\":\"x\",\"y\":[2.9799999999999995],\"yaxis\":\"y\",\"type\":\"bar\"},{\"alignmentgroup\":\"True\",\"hovertemplate\":\"Station.City=College Station<br>Date.Month=%{x}<br>Data.Precipitation=%{y}<extra></extra>\",\"legendgroup\":\"College Station\",\"marker\":{\"color\":\"#B6E880\",\"pattern\":{\"shape\":\"\"}},\"name\":\"College Station\",\"offsetgroup\":\"College Station\",\"orientation\":\"v\",\"showlegend\":true,\"textposition\":\"auto\",\"x\":[5],\"xaxis\":\"x\",\"y\":[2.556],\"yaxis\":\"y\",\"type\":\"bar\"},{\"alignmentgroup\":\"True\",\"hovertemplate\":\"Station.City=Lake Charles<br>Date.Month=%{x}<br>Data.Precipitation=%{y}<extra></extra>\",\"legendgroup\":\"Lake Charles\",\"marker\":{\"color\":\"#FF97FF\",\"pattern\":{\"shape\":\"\"}},\"name\":\"Lake Charles\",\"offsetgroup\":\"Lake Charles\",\"orientation\":\"v\",\"showlegend\":true,\"textposition\":\"auto\",\"x\":[5,6,8,12],\"xaxis\":\"x\",\"y\":[2.164,2.285,3.6750000000000003,2.21],\"yaxis\":\"y\",\"type\":\"bar\"},{\"alignmentgroup\":\"True\",\"hovertemplate\":\"Station.City=Kansas City<br>Date.Month=%{x}<br>Data.Precipitation=%{y}<extra></extra>\",\"legendgroup\":\"Kansas City\",\"marker\":{\"color\":\"#FECB52\",\"pattern\":{\"shape\":\"\"}},\"name\":\"Kansas City\",\"offsetgroup\":\"Kansas City\",\"orientation\":\"v\",\"showlegend\":true,\"textposition\":\"auto\",\"x\":[5,7],\"xaxis\":\"x\",\"y\":[1.886,1.752],\"yaxis\":\"y\",\"type\":\"bar\"},{\"alignmentgroup\":\"True\",\"hovertemplate\":\"Station.City=Richmond<br>Date.Month=%{x}<br>Data.Precipitation=%{y}<extra></extra>\",\"legendgroup\":\"Richmond\",\"marker\":{\"color\":\"#636efa\",\"pattern\":{\"shape\":\"\"}},\"name\":\"Richmond\",\"offsetgroup\":\"Richmond\",\"orientation\":\"v\",\"showlegend\":true,\"textposition\":\"auto\",\"x\":[5],\"xaxis\":\"x\",\"y\":[1.8719999999999999],\"yaxis\":\"y\",\"type\":\"bar\"},{\"alignmentgroup\":\"True\",\"hovertemplate\":\"Station.City=Savannah<br>Date.Month=%{x}<br>Data.Precipitation=%{y}<extra></extra>\",\"legendgroup\":\"Savannah\",\"marker\":{\"color\":\"#EF553B\",\"pattern\":{\"shape\":\"\"}},\"name\":\"Savannah\",\"offsetgroup\":\"Savannah\",\"orientation\":\"v\",\"showlegend\":true,\"textposition\":\"auto\",\"x\":[5,10],\"xaxis\":\"x\",\"y\":[1.798,2.322],\"yaxis\":\"y\",\"type\":\"bar\"},{\"alignmentgroup\":\"True\",\"hovertemplate\":\"Station.City=Topeka<br>Date.Month=%{x}<br>Data.Precipitation=%{y}<extra></extra>\",\"legendgroup\":\"Topeka\",\"marker\":{\"color\":\"#00cc96\",\"pattern\":{\"shape\":\"\"}},\"name\":\"Topeka\",\"offsetgroup\":\"Topeka\",\"orientation\":\"v\",\"showlegend\":true,\"textposition\":\"auto\",\"x\":[5],\"xaxis\":\"x\",\"y\":[1.764],\"yaxis\":\"y\",\"type\":\"bar\"},{\"alignmentgroup\":\"True\",\"hovertemplate\":\"Station.City=Greensboro<br>Date.Month=%{x}<br>Data.Precipitation=%{y}<extra></extra>\",\"legendgroup\":\"Greensboro\",\"marker\":{\"color\":\"#ab63fa\",\"pattern\":{\"shape\":\"\"}},\"name\":\"Greensboro\",\"offsetgroup\":\"Greensboro\",\"orientation\":\"v\",\"showlegend\":true,\"textposition\":\"auto\",\"x\":[5],\"xaxis\":\"x\",\"y\":[1.734],\"yaxis\":\"y\",\"type\":\"bar\"},{\"alignmentgroup\":\"True\",\"hovertemplate\":\"Station.City=Tampa<br>Date.Month=%{x}<br>Data.Precipitation=%{y}<extra></extra>\",\"legendgroup\":\"Tampa\",\"marker\":{\"color\":\"#FFA15A\",\"pattern\":{\"shape\":\"\"}},\"name\":\"Tampa\",\"offsetgroup\":\"Tampa\",\"orientation\":\"v\",\"showlegend\":true,\"textposition\":\"auto\",\"x\":[6],\"xaxis\":\"x\",\"y\":[2.81],\"yaxis\":\"y\",\"type\":\"bar\"},{\"alignmentgroup\":\"True\",\"hovertemplate\":\"Station.City=Waterloo<br>Date.Month=%{x}<br>Data.Precipitation=%{y}<extra></extra>\",\"legendgroup\":\"Waterloo\",\"marker\":{\"color\":\"#19d3f3\",\"pattern\":{\"shape\":\"\"}},\"name\":\"Waterloo\",\"offsetgroup\":\"Waterloo\",\"orientation\":\"v\",\"showlegend\":true,\"textposition\":\"auto\",\"x\":[6],\"xaxis\":\"x\",\"y\":[2.13],\"yaxis\":\"y\",\"type\":\"bar\"},{\"alignmentgroup\":\"True\",\"hovertemplate\":\"Station.City=Gainesville<br>Date.Month=%{x}<br>Data.Precipitation=%{y}<extra></extra>\",\"legendgroup\":\"Gainesville\",\"marker\":{\"color\":\"#FF6692\",\"pattern\":{\"shape\":\"\"}},\"name\":\"Gainesville\",\"offsetgroup\":\"Gainesville\",\"orientation\":\"v\",\"showlegend\":true,\"textposition\":\"auto\",\"x\":[6],\"xaxis\":\"x\",\"y\":[2.015],\"yaxis\":\"y\",\"type\":\"bar\"},{\"alignmentgroup\":\"True\",\"hovertemplate\":\"Station.City=Cedar Rapids<br>Date.Month=%{x}<br>Data.Precipitation=%{y}<extra></extra>\",\"legendgroup\":\"Cedar Rapids\",\"marker\":{\"color\":\"#B6E880\",\"pattern\":{\"shape\":\"\"}},\"name\":\"Cedar Rapids\",\"offsetgroup\":\"Cedar Rapids\",\"orientation\":\"v\",\"showlegend\":true,\"textposition\":\"auto\",\"x\":[6],\"xaxis\":\"x\",\"y\":[1.93],\"yaxis\":\"y\",\"type\":\"bar\"},{\"alignmentgroup\":\"True\",\"hovertemplate\":\"Station.City=Clarksville<br>Date.Month=%{x}<br>Data.Precipitation=%{y}<extra></extra>\",\"legendgroup\":\"Clarksville\",\"marker\":{\"color\":\"#FF97FF\",\"pattern\":{\"shape\":\"\"}},\"name\":\"Clarksville\",\"offsetgroup\":\"Clarksville\",\"orientation\":\"v\",\"showlegend\":true,\"textposition\":\"auto\",\"x\":[7],\"xaxis\":\"x\",\"y\":[2.396],\"yaxis\":\"y\",\"type\":\"bar\"},{\"alignmentgroup\":\"True\",\"hovertemplate\":\"Station.City=Wichita<br>Date.Month=%{x}<br>Data.Precipitation=%{y}<extra></extra>\",\"legendgroup\":\"Wichita\",\"marker\":{\"color\":\"#FECB52\",\"pattern\":{\"shape\":\"\"}},\"name\":\"Wichita\",\"offsetgroup\":\"Wichita\",\"orientation\":\"v\",\"showlegend\":true,\"textposition\":\"auto\",\"x\":[7,9],\"xaxis\":\"x\",\"y\":[1.934,2.825],\"yaxis\":\"y\",\"type\":\"bar\"},{\"alignmentgroup\":\"True\",\"hovertemplate\":\"Station.City=Atlantic City<br>Date.Month=%{x}<br>Data.Precipitation=%{y}<extra></extra>\",\"legendgroup\":\"Atlantic City\",\"marker\":{\"color\":\"#636efa\",\"pattern\":{\"shape\":\"\"}},\"name\":\"Atlantic City\",\"offsetgroup\":\"Atlantic City\",\"orientation\":\"v\",\"showlegend\":true,\"textposition\":\"auto\",\"x\":[7],\"xaxis\":\"x\",\"y\":[1.766],\"yaxis\":\"y\",\"type\":\"bar\"},{\"alignmentgroup\":\"True\",\"hovertemplate\":\"Station.City=St Joseph<br>Date.Month=%{x}<br>Data.Precipitation=%{y}<extra></extra>\",\"legendgroup\":\"St Joseph\",\"marker\":{\"color\":\"#EF553B\",\"pattern\":{\"shape\":\"\"}},\"name\":\"St Joseph\",\"offsetgroup\":\"St Joseph\",\"orientation\":\"v\",\"showlegend\":true,\"textposition\":\"auto\",\"x\":[7],\"xaxis\":\"x\",\"y\":[1.7079999999999997],\"yaxis\":\"y\",\"type\":\"bar\"},{\"alignmentgroup\":\"True\",\"hovertemplate\":\"Station.City=Hickory<br>Date.Month=%{x}<br>Data.Precipitation=%{y}<extra></extra>\",\"legendgroup\":\"Hickory\",\"marker\":{\"color\":\"#00cc96\",\"pattern\":{\"shape\":\"\"}},\"name\":\"Hickory\",\"offsetgroup\":\"Hickory\",\"orientation\":\"v\",\"showlegend\":true,\"textposition\":\"auto\",\"x\":[7],\"xaxis\":\"x\",\"y\":[1.688],\"yaxis\":\"y\",\"type\":\"bar\"},{\"alignmentgroup\":\"True\",\"hovertemplate\":\"Station.City=Springfield<br>Date.Month=%{x}<br>Data.Precipitation=%{y}<extra></extra>\",\"legendgroup\":\"Springfield\",\"marker\":{\"color\":\"#ab63fa\",\"pattern\":{\"shape\":\"\"}},\"name\":\"Springfield\",\"offsetgroup\":\"Springfield\",\"orientation\":\"v\",\"showlegend\":true,\"textposition\":\"auto\",\"x\":[7],\"xaxis\":\"x\",\"y\":[1.684],\"yaxis\":\"y\",\"type\":\"bar\"},{\"alignmentgroup\":\"True\",\"hovertemplate\":\"Station.City=St Louis<br>Date.Month=%{x}<br>Data.Precipitation=%{y}<extra></extra>\",\"legendgroup\":\"St Louis\",\"marker\":{\"color\":\"#FFA15A\",\"pattern\":{\"shape\":\"\"}},\"name\":\"St Louis\",\"offsetgroup\":\"St Louis\",\"orientation\":\"v\",\"showlegend\":true,\"textposition\":\"auto\",\"x\":[7],\"xaxis\":\"x\",\"y\":[1.674],\"yaxis\":\"y\",\"type\":\"bar\"},{\"alignmentgroup\":\"True\",\"hovertemplate\":\"Station.City=South Bend<br>Date.Month=%{x}<br>Data.Precipitation=%{y}<extra></extra>\",\"legendgroup\":\"South Bend\",\"marker\":{\"color\":\"#19d3f3\",\"pattern\":{\"shape\":\"\"}},\"name\":\"South Bend\",\"offsetgroup\":\"South Bend\",\"orientation\":\"v\",\"showlegend\":true,\"textposition\":\"auto\",\"x\":[8],\"xaxis\":\"x\",\"y\":[3.1125],\"yaxis\":\"y\",\"type\":\"bar\"},{\"alignmentgroup\":\"True\",\"hovertemplate\":\"Station.City=Pensacola<br>Date.Month=%{x}<br>Data.Precipitation=%{y}<extra></extra>\",\"legendgroup\":\"Pensacola\",\"marker\":{\"color\":\"#FF6692\",\"pattern\":{\"shape\":\"\"}},\"name\":\"Pensacola\",\"offsetgroup\":\"Pensacola\",\"orientation\":\"v\",\"showlegend\":true,\"textposition\":\"auto\",\"x\":[8,12],\"xaxis\":\"x\",\"y\":[3.0100000000000002,2.285],\"yaxis\":\"y\",\"type\":\"bar\"},{\"alignmentgroup\":\"True\",\"hovertemplate\":\"Station.City=Gulfport<br>Date.Month=%{x}<br>Data.Precipitation=%{y}<extra></extra>\",\"legendgroup\":\"Gulfport\",\"marker\":{\"color\":\"#B6E880\",\"pattern\":{\"shape\":\"\"}},\"name\":\"Gulfport\",\"offsetgroup\":\"Gulfport\",\"orientation\":\"v\",\"showlegend\":true,\"textposition\":\"auto\",\"x\":[8],\"xaxis\":\"x\",\"y\":[2.8249999999999997],\"yaxis\":\"y\",\"type\":\"bar\"},{\"alignmentgroup\":\"True\",\"hovertemplate\":\"Station.City=Miami<br>Date.Month=%{x}<br>Data.Precipitation=%{y}<extra></extra>\",\"legendgroup\":\"Miami\",\"marker\":{\"color\":\"#FF97FF\",\"pattern\":{\"shape\":\"\"}},\"name\":\"Miami\",\"offsetgroup\":\"Miami\",\"orientation\":\"v\",\"showlegend\":true,\"textposition\":\"auto\",\"x\":[8,10],\"xaxis\":\"x\",\"y\":[2.7800000000000002,1.9240000000000002],\"yaxis\":\"y\",\"type\":\"bar\"},{\"alignmentgroup\":\"True\",\"hovertemplate\":\"Station.City=Sitka<br>Date.Month=%{x}<br>Data.Precipitation=%{y}<extra></extra>\",\"legendgroup\":\"Sitka\",\"marker\":{\"color\":\"#FECB52\",\"pattern\":{\"shape\":\"\"}},\"name\":\"Sitka\",\"offsetgroup\":\"Sitka\",\"orientation\":\"v\",\"showlegend\":true,\"textposition\":\"auto\",\"x\":[9,12],\"xaxis\":\"x\",\"y\":[3.205,1.9775],\"yaxis\":\"y\",\"type\":\"bar\"},{\"alignmentgroup\":\"True\",\"hovertemplate\":\"Station.City=Juneau<br>Date.Month=%{x}<br>Data.Precipitation=%{y}<extra></extra>\",\"legendgroup\":\"Juneau\",\"marker\":{\"color\":\"#636efa\",\"pattern\":{\"shape\":\"\"}},\"name\":\"Juneau\",\"offsetgroup\":\"Juneau\",\"orientation\":\"v\",\"showlegend\":true,\"textposition\":\"auto\",\"x\":[9],\"xaxis\":\"x\",\"y\":[2.7775000000000003],\"yaxis\":\"y\",\"type\":\"bar\"},{\"alignmentgroup\":\"True\",\"hovertemplate\":\"Station.City=La Crosse<br>Date.Month=%{x}<br>Data.Precipitation=%{y}<extra></extra>\",\"legendgroup\":\"La Crosse\",\"marker\":{\"color\":\"#EF553B\",\"pattern\":{\"shape\":\"\"}},\"name\":\"La Crosse\",\"offsetgroup\":\"La Crosse\",\"orientation\":\"v\",\"showlegend\":true,\"textposition\":\"auto\",\"x\":[9],\"xaxis\":\"x\",\"y\":[2.58],\"yaxis\":\"y\",\"type\":\"bar\"},{\"alignmentgroup\":\"True\",\"hovertemplate\":\"Station.City=Wichita Falls<br>Date.Month=%{x}<br>Data.Precipitation=%{y}<extra></extra>\",\"legendgroup\":\"Wichita Falls\",\"marker\":{\"color\":\"#00cc96\",\"pattern\":{\"shape\":\"\"}},\"name\":\"Wichita Falls\",\"offsetgroup\":\"Wichita Falls\",\"orientation\":\"v\",\"showlegend\":true,\"textposition\":\"auto\",\"x\":[9],\"xaxis\":\"x\",\"y\":[2.455],\"yaxis\":\"y\",\"type\":\"bar\"},{\"alignmentgroup\":\"True\",\"hovertemplate\":\"Station.City=Olympia<br>Date.Month=%{x}<br>Data.Precipitation=%{y}<extra></extra>\",\"legendgroup\":\"Olympia\",\"marker\":{\"color\":\"#ab63fa\",\"pattern\":{\"shape\":\"\"}},\"name\":\"Olympia\",\"offsetgroup\":\"Olympia\",\"orientation\":\"v\",\"showlegend\":true,\"textposition\":\"auto\",\"x\":[10,11],\"xaxis\":\"x\",\"y\":[2.262,2.2424999999999997],\"yaxis\":\"y\",\"type\":\"bar\"},{\"alignmentgroup\":\"True\",\"hovertemplate\":\"Station.City=Salem<br>Date.Month=%{x}<br>Data.Precipitation=%{y}<extra></extra>\",\"legendgroup\":\"Salem\",\"marker\":{\"color\":\"#FFA15A\",\"pattern\":{\"shape\":\"\"}},\"name\":\"Salem\",\"offsetgroup\":\"Salem\",\"orientation\":\"v\",\"showlegend\":true,\"textposition\":\"auto\",\"x\":[10,11],\"xaxis\":\"x\",\"y\":[2.17,1.6800000000000002],\"yaxis\":\"y\",\"type\":\"bar\"},{\"alignmentgroup\":\"True\",\"hovertemplate\":\"Station.City=Eugene<br>Date.Month=%{x}<br>Data.Precipitation=%{y}<extra></extra>\",\"legendgroup\":\"Eugene\",\"marker\":{\"color\":\"#19d3f3\",\"pattern\":{\"shape\":\"\"}},\"name\":\"Eugene\",\"offsetgroup\":\"Eugene\",\"orientation\":\"v\",\"showlegend\":true,\"textposition\":\"auto\",\"x\":[10],\"xaxis\":\"x\",\"y\":[1.9740000000000002],\"yaxis\":\"y\",\"type\":\"bar\"},{\"alignmentgroup\":\"True\",\"hovertemplate\":\"Station.City=Jacksonville<br>Date.Month=%{x}<br>Data.Precipitation=%{y}<extra></extra>\",\"legendgroup\":\"Jacksonville\",\"marker\":{\"color\":\"#FF6692\",\"pattern\":{\"shape\":\"\"}},\"name\":\"Jacksonville\",\"offsetgroup\":\"Jacksonville\",\"orientation\":\"v\",\"showlegend\":true,\"textposition\":\"auto\",\"x\":[10],\"xaxis\":\"x\",\"y\":[1.9020000000000004],\"yaxis\":\"y\",\"type\":\"bar\"},{\"alignmentgroup\":\"True\",\"hovertemplate\":\"Station.City=Galveston<br>Date.Month=%{x}<br>Data.Precipitation=%{y}<extra></extra>\",\"legendgroup\":\"Galveston\",\"marker\":{\"color\":\"#B6E880\",\"pattern\":{\"shape\":\"\"}},\"name\":\"Galveston\",\"offsetgroup\":\"Galveston\",\"orientation\":\"v\",\"showlegend\":true,\"textposition\":\"auto\",\"x\":[12],\"xaxis\":\"x\",\"y\":[2.5124999999999997],\"yaxis\":\"y\",\"type\":\"bar\"}],                        {\"template\":{\"data\":{\"histogram2dcontour\":[{\"type\":\"histogram2dcontour\",\"colorbar\":{\"outlinewidth\":0,\"ticks\":\"\"},\"colorscale\":[[0.0,\"#0d0887\"],[0.1111111111111111,\"#46039f\"],[0.2222222222222222,\"#7201a8\"],[0.3333333333333333,\"#9c179e\"],[0.4444444444444444,\"#bd3786\"],[0.5555555555555556,\"#d8576b\"],[0.6666666666666666,\"#ed7953\"],[0.7777777777777778,\"#fb9f3a\"],[0.8888888888888888,\"#fdca26\"],[1.0,\"#f0f921\"]]}],\"choropleth\":[{\"type\":\"choropleth\",\"colorbar\":{\"outlinewidth\":0,\"ticks\":\"\"}}],\"histogram2d\":[{\"type\":\"histogram2d\",\"colorbar\":{\"outlinewidth\":0,\"ticks\":\"\"},\"colorscale\":[[0.0,\"#0d0887\"],[0.1111111111111111,\"#46039f\"],[0.2222222222222222,\"#7201a8\"],[0.3333333333333333,\"#9c179e\"],[0.4444444444444444,\"#bd3786\"],[0.5555555555555556,\"#d8576b\"],[0.6666666666666666,\"#ed7953\"],[0.7777777777777778,\"#fb9f3a\"],[0.8888888888888888,\"#fdca26\"],[1.0,\"#f0f921\"]]}],\"heatmap\":[{\"type\":\"heatmap\",\"colorbar\":{\"outlinewidth\":0,\"ticks\":\"\"},\"colorscale\":[[0.0,\"#0d0887\"],[0.1111111111111111,\"#46039f\"],[0.2222222222222222,\"#7201a8\"],[0.3333333333333333,\"#9c179e\"],[0.4444444444444444,\"#bd3786\"],[0.5555555555555556,\"#d8576b\"],[0.6666666666666666,\"#ed7953\"],[0.7777777777777778,\"#fb9f3a\"],[0.8888888888888888,\"#fdca26\"],[1.0,\"#f0f921\"]]}],\"heatmapgl\":[{\"type\":\"heatmapgl\",\"colorbar\":{\"outlinewidth\":0,\"ticks\":\"\"},\"colorscale\":[[0.0,\"#0d0887\"],[0.1111111111111111,\"#46039f\"],[0.2222222222222222,\"#7201a8\"],[0.3333333333333333,\"#9c179e\"],[0.4444444444444444,\"#bd3786\"],[0.5555555555555556,\"#d8576b\"],[0.6666666666666666,\"#ed7953\"],[0.7777777777777778,\"#fb9f3a\"],[0.8888888888888888,\"#fdca26\"],[1.0,\"#f0f921\"]]}],\"contourcarpet\":[{\"type\":\"contourcarpet\",\"colorbar\":{\"outlinewidth\":0,\"ticks\":\"\"}}],\"contour\":[{\"type\":\"contour\",\"colorbar\":{\"outlinewidth\":0,\"ticks\":\"\"},\"colorscale\":[[0.0,\"#0d0887\"],[0.1111111111111111,\"#46039f\"],[0.2222222222222222,\"#7201a8\"],[0.3333333333333333,\"#9c179e\"],[0.4444444444444444,\"#bd3786\"],[0.5555555555555556,\"#d8576b\"],[0.6666666666666666,\"#ed7953\"],[0.7777777777777778,\"#fb9f3a\"],[0.8888888888888888,\"#fdca26\"],[1.0,\"#f0f921\"]]}],\"surface\":[{\"type\":\"surface\",\"colorbar\":{\"outlinewidth\":0,\"ticks\":\"\"},\"colorscale\":[[0.0,\"#0d0887\"],[0.1111111111111111,\"#46039f\"],[0.2222222222222222,\"#7201a8\"],[0.3333333333333333,\"#9c179e\"],[0.4444444444444444,\"#bd3786\"],[0.5555555555555556,\"#d8576b\"],[0.6666666666666666,\"#ed7953\"],[0.7777777777777778,\"#fb9f3a\"],[0.8888888888888888,\"#fdca26\"],[1.0,\"#f0f921\"]]}],\"mesh3d\":[{\"type\":\"mesh3d\",\"colorbar\":{\"outlinewidth\":0,\"ticks\":\"\"}}],\"scatter\":[{\"fillpattern\":{\"fillmode\":\"overlay\",\"size\":10,\"solidity\":0.2},\"type\":\"scatter\"}],\"parcoords\":[{\"type\":\"parcoords\",\"line\":{\"colorbar\":{\"outlinewidth\":0,\"ticks\":\"\"}}}],\"scatterpolargl\":[{\"type\":\"scatterpolargl\",\"marker\":{\"colorbar\":{\"outlinewidth\":0,\"ticks\":\"\"}}}],\"bar\":[{\"error_x\":{\"color\":\"#2a3f5f\"},\"error_y\":{\"color\":\"#2a3f5f\"},\"marker\":{\"line\":{\"color\":\"#E5ECF6\",\"width\":0.5},\"pattern\":{\"fillmode\":\"overlay\",\"size\":10,\"solidity\":0.2}},\"type\":\"bar\"}],\"scattergeo\":[{\"type\":\"scattergeo\",\"marker\":{\"colorbar\":{\"outlinewidth\":0,\"ticks\":\"\"}}}],\"scatterpolar\":[{\"type\":\"scatterpolar\",\"marker\":{\"colorbar\":{\"outlinewidth\":0,\"ticks\":\"\"}}}],\"histogram\":[{\"marker\":{\"pattern\":{\"fillmode\":\"overlay\",\"size\":10,\"solidity\":0.2}},\"type\":\"histogram\"}],\"scattergl\":[{\"type\":\"scattergl\",\"marker\":{\"colorbar\":{\"outlinewidth\":0,\"ticks\":\"\"}}}],\"scatter3d\":[{\"type\":\"scatter3d\",\"line\":{\"colorbar\":{\"outlinewidth\":0,\"ticks\":\"\"}},\"marker\":{\"colorbar\":{\"outlinewidth\":0,\"ticks\":\"\"}}}],\"scattermapbox\":[{\"type\":\"scattermapbox\",\"marker\":{\"colorbar\":{\"outlinewidth\":0,\"ticks\":\"\"}}}],\"scatterternary\":[{\"type\":\"scatterternary\",\"marker\":{\"colorbar\":{\"outlinewidth\":0,\"ticks\":\"\"}}}],\"scattercarpet\":[{\"type\":\"scattercarpet\",\"marker\":{\"colorbar\":{\"outlinewidth\":0,\"ticks\":\"\"}}}],\"carpet\":[{\"aaxis\":{\"endlinecolor\":\"#2a3f5f\",\"gridcolor\":\"white\",\"linecolor\":\"white\",\"minorgridcolor\":\"white\",\"startlinecolor\":\"#2a3f5f\"},\"baxis\":{\"endlinecolor\":\"#2a3f5f\",\"gridcolor\":\"white\",\"linecolor\":\"white\",\"minorgridcolor\":\"white\",\"startlinecolor\":\"#2a3f5f\"},\"type\":\"carpet\"}],\"table\":[{\"cells\":{\"fill\":{\"color\":\"#EBF0F8\"},\"line\":{\"color\":\"white\"}},\"header\":{\"fill\":{\"color\":\"#C8D4E3\"},\"line\":{\"color\":\"white\"}},\"type\":\"table\"}],\"barpolar\":[{\"marker\":{\"line\":{\"color\":\"#E5ECF6\",\"width\":0.5},\"pattern\":{\"fillmode\":\"overlay\",\"size\":10,\"solidity\":0.2}},\"type\":\"barpolar\"}],\"pie\":[{\"automargin\":true,\"type\":\"pie\"}]},\"layout\":{\"autotypenumbers\":\"strict\",\"colorway\":[\"#636efa\",\"#EF553B\",\"#00cc96\",\"#ab63fa\",\"#FFA15A\",\"#19d3f3\",\"#FF6692\",\"#B6E880\",\"#FF97FF\",\"#FECB52\"],\"font\":{\"color\":\"#2a3f5f\"},\"hovermode\":\"closest\",\"hoverlabel\":{\"align\":\"left\"},\"paper_bgcolor\":\"white\",\"plot_bgcolor\":\"#E5ECF6\",\"polar\":{\"bgcolor\":\"#E5ECF6\",\"angularaxis\":{\"gridcolor\":\"white\",\"linecolor\":\"white\",\"ticks\":\"\"},\"radialaxis\":{\"gridcolor\":\"white\",\"linecolor\":\"white\",\"ticks\":\"\"}},\"ternary\":{\"bgcolor\":\"#E5ECF6\",\"aaxis\":{\"gridcolor\":\"white\",\"linecolor\":\"white\",\"ticks\":\"\"},\"baxis\":{\"gridcolor\":\"white\",\"linecolor\":\"white\",\"ticks\":\"\"},\"caxis\":{\"gridcolor\":\"white\",\"linecolor\":\"white\",\"ticks\":\"\"}},\"coloraxis\":{\"colorbar\":{\"outlinewidth\":0,\"ticks\":\"\"}},\"colorscale\":{\"sequential\":[[0.0,\"#0d0887\"],[0.1111111111111111,\"#46039f\"],[0.2222222222222222,\"#7201a8\"],[0.3333333333333333,\"#9c179e\"],[0.4444444444444444,\"#bd3786\"],[0.5555555555555556,\"#d8576b\"],[0.6666666666666666,\"#ed7953\"],[0.7777777777777778,\"#fb9f3a\"],[0.8888888888888888,\"#fdca26\"],[1.0,\"#f0f921\"]],\"sequentialminus\":[[0.0,\"#0d0887\"],[0.1111111111111111,\"#46039f\"],[0.2222222222222222,\"#7201a8\"],[0.3333333333333333,\"#9c179e\"],[0.4444444444444444,\"#bd3786\"],[0.5555555555555556,\"#d8576b\"],[0.6666666666666666,\"#ed7953\"],[0.7777777777777778,\"#fb9f3a\"],[0.8888888888888888,\"#fdca26\"],[1.0,\"#f0f921\"]],\"diverging\":[[0,\"#8e0152\"],[0.1,\"#c51b7d\"],[0.2,\"#de77ae\"],[0.3,\"#f1b6da\"],[0.4,\"#fde0ef\"],[0.5,\"#f7f7f7\"],[0.6,\"#e6f5d0\"],[0.7,\"#b8e186\"],[0.8,\"#7fbc41\"],[0.9,\"#4d9221\"],[1,\"#276419\"]]},\"xaxis\":{\"gridcolor\":\"white\",\"linecolor\":\"white\",\"ticks\":\"\",\"title\":{\"standoff\":15},\"zerolinecolor\":\"white\",\"automargin\":true,\"zerolinewidth\":2},\"yaxis\":{\"gridcolor\":\"white\",\"linecolor\":\"white\",\"ticks\":\"\",\"title\":{\"standoff\":15},\"zerolinecolor\":\"white\",\"automargin\":true,\"zerolinewidth\":2},\"scene\":{\"xaxis\":{\"backgroundcolor\":\"#E5ECF6\",\"gridcolor\":\"white\",\"linecolor\":\"white\",\"showbackground\":true,\"ticks\":\"\",\"zerolinecolor\":\"white\",\"gridwidth\":2},\"yaxis\":{\"backgroundcolor\":\"#E5ECF6\",\"gridcolor\":\"white\",\"linecolor\":\"white\",\"showbackground\":true,\"ticks\":\"\",\"zerolinecolor\":\"white\",\"gridwidth\":2},\"zaxis\":{\"backgroundcolor\":\"#E5ECF6\",\"gridcolor\":\"white\",\"linecolor\":\"white\",\"showbackground\":true,\"ticks\":\"\",\"zerolinecolor\":\"white\",\"gridwidth\":2}},\"shapedefaults\":{\"line\":{\"color\":\"#2a3f5f\"}},\"annotationdefaults\":{\"arrowcolor\":\"#2a3f5f\",\"arrowhead\":0,\"arrowwidth\":1},\"geo\":{\"bgcolor\":\"white\",\"landcolor\":\"#E5ECF6\",\"subunitcolor\":\"white\",\"showland\":true,\"showlakes\":true,\"lakecolor\":\"white\"},\"title\":{\"x\":0.05},\"mapbox\":{\"style\":\"light\"}}},\"xaxis\":{\"anchor\":\"y\",\"domain\":[0.0,1.0],\"title\":{\"text\":\"Months\"},\"color\":\"crimson\"},\"yaxis\":{\"anchor\":\"x\",\"domain\":[0.0,1.0],\"title\":{\"text\":\"Average Precipitation\",\"standoff\":15},\"ticklabelposition\":\"outside\",\"color\":\"crimson\",\"nticks\":12,\"tick0\":0.25,\"dtick\":0.5},\"legend\":{\"title\":{\"text\":\"Station.City\"},\"tracegroupgap\":0},\"margin\":{\"t\":20,\"l\":20,\"r\":20,\"b\":20},\"barmode\":\"relative\",\"paper_bgcolor\":\"lightgreen\"},                        {\"responsive\": true}                    ).then(function(){\n",
       "                            \n",
       "var gd = document.getElementById('a903db4f-61ad-4862-9ab7-dc404a3e6aec');\n",
       "var x = new MutationObserver(function (mutations, observer) {{\n",
       "        var display = window.getComputedStyle(gd).display;\n",
       "        if (!display || display === 'none') {{\n",
       "            console.log([gd, 'removed!']);\n",
       "            Plotly.purge(gd);\n",
       "            observer.disconnect();\n",
       "        }}\n",
       "}});\n",
       "\n",
       "// Listen for the removal of the full notebook cells\n",
       "var notebookContainer = gd.closest('#notebook-container');\n",
       "if (notebookContainer) {{\n",
       "    x.observe(notebookContainer, {childList: true});\n",
       "}}\n",
       "\n",
       "// Listen for the clearing of the current output cell\n",
       "var outputEl = gd.closest('.output');\n",
       "if (outputEl) {{\n",
       "    x.observe(outputEl, {childList: true});\n",
       "}}\n",
       "\n",
       "                        })                };                });            </script>        </div>"
      ]
     },
     "metadata": {},
     "output_type": "display_data"
    }
   ],
   "source": [
    "\n",
    "import plotly.express as px\n",
    "fig = px.bar(modify_date , x = \"Date.Month\" , y = \"Data.Precipitation\" , color = 'Station.City')\n",
    "fig.update_layout(\n",
    "    margin=dict(l=20, r=20, t=20, b=20),\n",
    "    paper_bgcolor=\"lightgreen\",\n",
    ")\n",
    "fig.update_yaxes(ticklabelposition=\"outside\", title=None)\n",
    "fig.update_yaxes(title_text=\"Average Precipitation\",title_standoff=15\n",
    "                 , color='crimson')\n",
    "fig.update_yaxes(nticks=12,tick0=0.25, dtick=0.5)\n",
    "fig.update_xaxes(title_text=\"Months\",color='crimson')\n",
    "fig.show()"
   ]
  },
  {
   "cell_type": "code",
   "execution_count": 29,
   "id": "d1382483",
   "metadata": {},
   "outputs": [],
   "source": [
    "import matplotlib.pyplot as plt\n",
    "import seaborn as sns"
   ]
  },
  {
   "cell_type": "code",
   "execution_count": 28,
   "id": "5758c846",
   "metadata": {},
   "outputs": [
    {
     "data": {
      "text/plain": [
       "<BarContainer object of 120 artists>"
      ]
     },
     "execution_count": 28,
     "metadata": {},
     "output_type": "execute_result"
    },
    {
     "data": {
      "image/png": "[encoded data removed]",
      "text/plain": [
       "<Figure size 432x288 with 1 Axes>"
      ]
     },
     "metadata": {
      "needs_background": "light"
     },
     "output_type": "display_data"
    }
   ],
   "source": [
    "plt.bar(x='Data.Precipitation',height='Date.Month',data=modify_date,)"
   ]
  },
  {
   "cell_type": "code",
   "execution_count": 36,
   "id": "600b9253",
   "metadata": {},
   "outputs": [
    {
     "data": {
      "image/png": "[encoded data removed]",
      "text/plain": [
       "<Figure size 1440x576 with 1 Axes>"
      ]
     },
     "metadata": {
      "needs_background": "light"
     },
     "output_type": "display_data"
    }
   ],
   "source": [
    "plt.figure(figsize=(20,8))\n",
    "sns.barplot(x='Date.Month',y='Data.Precipitation',hue='Station.City',data=modify_date)\n",
    "plt.show()"
   ]
  },
  {
   "cell_type": "code",
   "execution_count": 6,
   "id": "b4f4bee4",
   "metadata": {},
   "outputs": [
    {
     "data": {
      "text/html": [
       "<div>\n",
       "<style scoped>\n",
       "    .dataframe tbody tr th:only-of-type {\n",
       "        vertical-align: middle;\n",
       "    }\n",
       "\n",
       "    .dataframe tbody tr th {\n",
       "        vertical-align: top;\n",
       "    }\n",
       "\n",
       "    .dataframe thead th {\n",
       "        text-align: right;\n",
       "    }\n",
       "</style>\n",
       "<table border=\"1\" class=\"dataframe\">\n",
       "  <thead>\n",
       "    <tr style=\"text-align: right;\">\n",
       "      <th></th>\n",
       "      <th>Data.Precipitation</th>\n",
       "      <th>Date.Full</th>\n",
       "      <th>Date.Month</th>\n",
       "      <th>Date.Week of</th>\n",
       "      <th>Date.Year</th>\n",
       "      <th>Station.City</th>\n",
       "      <th>Station.Code</th>\n",
       "      <th>Station.Location</th>\n",
       "      <th>Station.State</th>\n",
       "      <th>Data.Temperature.Avg Temp</th>\n",
       "      <th>Data.Temperature.Max Temp</th>\n",
       "      <th>Data.Temperature.Min Temp</th>\n",
       "      <th>Data.Wind.Direction</th>\n",
       "      <th>Data.Wind.Speed</th>\n",
       "    </tr>\n",
       "  </thead>\n",
       "  <tbody>\n",
       "    <tr>\n",
       "      <th>10224</th>\n",
       "      <td>20.89</td>\n",
       "      <td>2016-08-14</td>\n",
       "      <td>8</td>\n",
       "      <td>14</td>\n",
       "      <td>2016</td>\n",
       "      <td>Baton Rouge</td>\n",
       "      <td>BTR</td>\n",
       "      <td>Baton Rouge, LA</td>\n",
       "      <td>Louisiana</td>\n",
       "      <td>80</td>\n",
       "      <td>85</td>\n",
       "      <td>74</td>\n",
       "      <td>25</td>\n",
       "      <td>6.21</td>\n",
       "    </tr>\n",
       "    <tr>\n",
       "      <th>6397</th>\n",
       "      <td>15.19</td>\n",
       "      <td>2016-05-22</td>\n",
       "      <td>5</td>\n",
       "      <td>22</td>\n",
       "      <td>2016</td>\n",
       "      <td>Vero Beach</td>\n",
       "      <td>VRB</td>\n",
       "      <td>Vero Beach, FL</td>\n",
       "      <td>Florida</td>\n",
       "      <td>80</td>\n",
       "      <td>89</td>\n",
       "      <td>70</td>\n",
       "      <td>19</td>\n",
       "      <td>6.05</td>\n",
       "    </tr>\n",
       "    <tr>\n",
       "      <th>10824</th>\n",
       "      <td>14.03</td>\n",
       "      <td>2016-08-28</td>\n",
       "      <td>8</td>\n",
       "      <td>28</td>\n",
       "      <td>2016</td>\n",
       "      <td>Hilo</td>\n",
       "      <td>ITO</td>\n",
       "      <td>Hilo, HI</td>\n",
       "      <td>Hawaii</td>\n",
       "      <td>77</td>\n",
       "      <td>82</td>\n",
       "      <td>71</td>\n",
       "      <td>21</td>\n",
       "      <td>2.41</td>\n",
       "    </tr>\n",
       "    <tr>\n",
       "      <th>3304</th>\n",
       "      <td>13.36</td>\n",
       "      <td>2016-03-13</td>\n",
       "      <td>3</td>\n",
       "      <td>13</td>\n",
       "      <td>2016</td>\n",
       "      <td>Greenville</td>\n",
       "      <td>GLH</td>\n",
       "      <td>Greenville, MS</td>\n",
       "      <td>Mississippi</td>\n",
       "      <td>65</td>\n",
       "      <td>71</td>\n",
       "      <td>58</td>\n",
       "      <td>11</td>\n",
       "      <td>9.54</td>\n",
       "    </tr>\n",
       "    <tr>\n",
       "      <th>419</th>\n",
       "      <td>12.65</td>\n",
       "      <td>2016-01-10</td>\n",
       "      <td>1</td>\n",
       "      <td>10</td>\n",
       "      <td>2016</td>\n",
       "      <td>Evansville</td>\n",
       "      <td>EVV</td>\n",
       "      <td>Evansville, IN</td>\n",
       "      <td>Indiana</td>\n",
       "      <td>36</td>\n",
       "      <td>45</td>\n",
       "      <td>26</td>\n",
       "      <td>21</td>\n",
       "      <td>4.52</td>\n",
       "    </tr>\n",
       "    <tr>\n",
       "      <th>3280</th>\n",
       "      <td>12.02</td>\n",
       "      <td>2016-03-13</td>\n",
       "      <td>3</td>\n",
       "      <td>13</td>\n",
       "      <td>2016</td>\n",
       "      <td>Shreveport</td>\n",
       "      <td>SHV</td>\n",
       "      <td>Shreveport, LA</td>\n",
       "      <td>Louisiana</td>\n",
       "      <td>66</td>\n",
       "      <td>73</td>\n",
       "      <td>59</td>\n",
       "      <td>11</td>\n",
       "      <td>8.31</td>\n",
       "    </tr>\n",
       "    <tr>\n",
       "      <th>12722</th>\n",
       "      <td>11.52</td>\n",
       "      <td>2016-10-09</td>\n",
       "      <td>10</td>\n",
       "      <td>9</td>\n",
       "      <td>2016</td>\n",
       "      <td>Savannah</td>\n",
       "      <td>SAV</td>\n",
       "      <td>Savannah, GA</td>\n",
       "      <td>Georgia</td>\n",
       "      <td>74</td>\n",
       "      <td>80</td>\n",
       "      <td>67</td>\n",
       "      <td>12</td>\n",
       "      <td>13.25</td>\n",
       "    </tr>\n",
       "    <tr>\n",
       "      <th>3411</th>\n",
       "      <td>10.58</td>\n",
       "      <td>2016-03-13</td>\n",
       "      <td>3</td>\n",
       "      <td>13</td>\n",
       "      <td>2016</td>\n",
       "      <td>Memphis</td>\n",
       "      <td>MEM</td>\n",
       "      <td>Memphis, TN</td>\n",
       "      <td>Tennessee</td>\n",
       "      <td>63</td>\n",
       "      <td>68</td>\n",
       "      <td>57</td>\n",
       "      <td>13</td>\n",
       "      <td>7.17</td>\n",
       "    </tr>\n",
       "    <tr>\n",
       "      <th>12879</th>\n",
       "      <td>10.49</td>\n",
       "      <td>2016-10-09</td>\n",
       "      <td>10</td>\n",
       "      <td>9</td>\n",
       "      <td>2016</td>\n",
       "      <td>Charleston</td>\n",
       "      <td>CHS</td>\n",
       "      <td>Charleston, SC</td>\n",
       "      <td>South Carolina</td>\n",
       "      <td>73</td>\n",
       "      <td>79</td>\n",
       "      <td>66</td>\n",
       "      <td>12</td>\n",
       "      <td>12.20</td>\n",
       "    </tr>\n",
       "    <tr>\n",
       "      <th>2538</th>\n",
       "      <td>10.34</td>\n",
       "      <td>2016-02-28</td>\n",
       "      <td>2</td>\n",
       "      <td>28</td>\n",
       "      <td>2016</td>\n",
       "      <td>Ketchikan</td>\n",
       "      <td>KTN</td>\n",
       "      <td>Ketchikan, AK</td>\n",
       "      <td>Alaska</td>\n",
       "      <td>43</td>\n",
       "      <td>47</td>\n",
       "      <td>39</td>\n",
       "      <td>13</td>\n",
       "      <td>12.08</td>\n",
       "    </tr>\n",
       "  </tbody>\n",
       "</table>\n",
       "</div>"
      ],
      "text/plain": [
       "       Data.Precipitation   Date.Full  Date.Month  Date.Week of  Date.Year  \\\n",
       "10224               20.89  2016-08-14           8            14       2016   \n",
       "6397                15.19  2016-05-22           5            22       2016   \n",
       "10824               14.03  2016-08-28           8            28       2016   \n",
       "3304                13.36  2016-03-13           3            13       2016   \n",
       "419                 12.65  2016-01-10           1            10       2016   \n",
       "3280                12.02  2016-03-13           3            13       2016   \n",
       "12722               11.52  2016-10-09          10             9       2016   \n",
       "3411                10.58  2016-03-13           3            13       2016   \n",
       "12879               10.49  2016-10-09          10             9       2016   \n",
       "2538                10.34  2016-02-28           2            28       2016   \n",
       "\n",
       "      Station.City Station.Code Station.Location   Station.State  \\\n",
       "10224  Baton Rouge          BTR  Baton Rouge, LA       Louisiana   \n",
       "6397    Vero Beach          VRB   Vero Beach, FL         Florida   \n",
       "10824         Hilo          ITO         Hilo, HI          Hawaii   \n",
       "3304    Greenville          GLH   Greenville, MS     Mississippi   \n",
       "419     Evansville          EVV   Evansville, IN         Indiana   \n",
       "3280    Shreveport          SHV   Shreveport, LA       Louisiana   \n",
       "12722     Savannah          SAV     Savannah, GA         Georgia   \n",
       "3411       Memphis          MEM      Memphis, TN       Tennessee   \n",
       "12879   Charleston          CHS   Charleston, SC  South Carolina   \n",
       "2538     Ketchikan          KTN    Ketchikan, AK          Alaska   \n",
       "\n",
       "       Data.Temperature.Avg Temp  Data.Temperature.Max Temp  \\\n",
       "10224                         80                         85   \n",
       "6397                          80                         89   \n",
       "10824                         77                         82   \n",
       "3304                          65                         71   \n",
       "419                           36                         45   \n",
       "3280                          66                         73   \n",
       "12722                         74                         80   \n",
       "3411                          63                         68   \n",
       "12879                         73                         79   \n",
       "2538                          43                         47   \n",
       "\n",
       "       Data.Temperature.Min Temp  Data.Wind.Direction  Data.Wind.Speed  \n",
       "10224                         74                   25             6.21  \n",
       "6397                          70                   19             6.05  \n",
       "10824                         71                   21             2.41  \n",
       "3304                          58                   11             9.54  \n",
       "419                           26                   21             4.52  \n",
       "3280                          59                   11             8.31  \n",
       "12722                         67                   12            13.25  \n",
       "3411                          57                   13             7.17  \n",
       "12879                         66                   12            12.20  \n",
       "2538                          39                   13            12.08  "
      ]
     },
     "execution_count": 6,
     "metadata": {},
     "output_type": "execute_result"
    }
   ],
   "source": [
    "df.nlargest(10, columns='Data.Precipitation')"
   ]
  },
  {
   "cell_type": "code",
   "execution_count": null,
   "id": "edaf1b1a",
   "metadata": {},
   "outputs": [],
   "source": []
  }
 ],
 "metadata": {
  "kernelspec": {
   "display_name": "Python 3 (ipykernel)",
   "language": "python",
   "name": "python3"
  },
  "language_info": {
   "codemirror_mode": {
    "name": "ipython",
    "version": 3
   },
   "file_extension": ".py",
   "mimetype": "text/x-python",
   "name": "python",
   "nbconvert_exporter": "python",
   "pygments_lexer": "ipython3",
   "version": "3.10.6"
  }
 },
 "nbformat": 4,
 "nbformat_minor": 5
}
